{
 "cells": [
  {
   "cell_type": "markdown",
   "metadata": {
    "id": "oiutsxb9XGPE"
   },
   "source": [
    "# Detecting SQL injections using BERT "
   ]
  },
  {
   "cell_type": "markdown",
   "metadata": {
    "id": "8O2ke4zOQGSP"
   },
   "source": [
    "**Install nedded libraries**"
   ]
  },
  {
   "cell_type": "code",
   "execution_count": null,
   "metadata": {
    "id": "KBCO29rpQJ9e"
   },
   "outputs": [],
   "source": [
    "!pip install ktrain \n",
    "!pip install chardet"
   ]
  },
  {
   "cell_type": "markdown",
   "metadata": {
    "id": "k6fKHXpsXI0O"
   },
   "source": [
    "**Importing the libraries**"
   ]
  },
  {
   "cell_type": "code",
   "execution_count": 2,
   "metadata": {
    "id": "U1ry-3RsbyHc",
    "tags": []
   },
   "outputs": [],
   "source": [
    "import numpy as np\n",
    "import ktrain\n",
    "from ktrain import text\n",
    "import pandas as pd\n",
    "import chardet\n",
    "import matplotlib.pyplot as plt\n",
    "import matplotlib\n",
    "from sklearn.model_selection import train_test_split\n",
    "import seaborn as sns\n",
    "import pickle"
   ]
  },
  {
   "cell_type": "markdown",
   "metadata": {
    "id": "T6uQWRCUd2Kv"
   },
   "source": [
    "**Reading and displaying the dataset**"
   ]
  },
  {
   "cell_type": "code",
   "execution_count": 3,
   "metadata": {
    "colab": {
     "base_uri": "https://localhost:8080/"
    },
    "id": "jvRlnEJ8cnRj",
    "outputId": "2be71f18-e7ff-4514-8443-07d2c5cb06ff",
    "tags": []
   },
   "outputs": [
    {
     "name": "stdout",
     "output_type": "stream",
     "text": [
      "                                            Sentence  Label\n",
      "0                  \" or pg_sleep  (  __TIME__  )  --      1\n",
      "1   AND 1  =  utl_inaddr.get_host_address   (    ...      1\n",
      "2   select * from users where id  =  '1' or @ @1 ...      1\n",
      "3   select * from users where id  =  1 or 1#\"  ( ...      1\n",
      "4   select name from syscolumns where id   =     ...      1\n",
      "5  select * from users where id  =  1 +$+ or 1  =...      1\n",
      "6  1;  (  load_file  (  char  (  47,101,116,99,47...      1\n",
      "7   select * from users where id  =  '1' or ||/1 ...      1\n",
      "8   select * from users where id  =  '1' or \\.<\\ ...      1\n",
      "9                                    ? or 1  =  1 --      1\n"
     ]
    }
   ],
   "source": [
    "# Detect the encoding of the CSV file\n",
    "with open('SQLiV3_3.csv', 'rb') as f:\n",
    "    result = chardet.detect(f.read())\n",
    "# Read the CSV file into a pandas dataframe, using the detected encoding\n",
    "df = pd.read_csv('SQLiV3_3.csv', sep=',',  encoding=result['encoding'])\n",
    "# Display the first rows of the dataframe\n",
    "print(df.head(10))"
   ]
  },
  {
   "cell_type": "code",
   "execution_count": 4,
   "metadata": {
    "colab": {
     "base_uri": "https://localhost:8080/"
    },
    "id": "EeAUiQGPdtGa",
    "outputId": "5d1e3371-0bb7-4d85-8757-09e4862b5f84",
    "tags": []
   },
   "outputs": [
    {
     "data": {
      "text/plain": [
       "(22599, 2)"
      ]
     },
     "execution_count": 4,
     "metadata": {},
     "output_type": "execute_result"
    }
   ],
   "source": [
    "df.shape"
   ]
  },
  {
   "cell_type": "code",
   "execution_count": 5,
   "metadata": {
    "colab": {
     "base_uri": "https://localhost:8080/"
    },
    "id": "mhMyGO_xeGZU",
    "outputId": "8d67f3b6-3f41-4fbb-f8ea-dc7283ca2351",
    "tags": []
   },
   "outputs": [
    {
     "name": "stdout",
     "output_type": "stream",
     "text": [
      "----------------------------------------------------\n",
      "<class 'pandas.core.frame.DataFrame'>\n",
      "RangeIndex: 22599 entries, 0 to 22598\n",
      "Data columns (total 2 columns):\n",
      " #   Column    Non-Null Count  Dtype \n",
      "---  ------    --------------  ----- \n",
      " 0   Sentence  22599 non-null  object\n",
      " 1   Label     22599 non-null  int64 \n",
      "dtypes: int64(1), object(1)\n",
      "memory usage: 353.2+ KB\n",
      "----------------------------------------------------\n"
     ]
    }
   ],
   "source": [
    "print(\"----------------------------------------------------\")\n",
    "df.info()\n",
    "print(\"----------------------------------------------------\")"
   ]
  },
  {
   "cell_type": "code",
   "execution_count": 6,
   "metadata": {
    "colab": {
     "base_uri": "https://localhost:8080/"
    },
    "id": "p_EUGH9qeORB",
    "outputId": "d4d02065-dee0-4191-ed2b-e4e3995c3fb5",
    "tags": []
   },
   "outputs": [
    {
     "data": {
      "text/plain": [
       "count    22599.000000\n",
       "mean         0.499624\n",
       "std          0.500011\n",
       "min          0.000000\n",
       "25%          0.000000\n",
       "50%          0.000000\n",
       "75%          1.000000\n",
       "max          1.000000\n",
       "Name: Label, dtype: float64"
      ]
     },
     "execution_count": 6,
     "metadata": {},
     "output_type": "execute_result"
    }
   ],
   "source": [
    "df['Label'].describe()\n"
   ]
  },
  {
   "cell_type": "markdown",
   "metadata": {
    "id": "ZSV35_OjeaA9"
   },
   "source": [
    "**Process NaN values**"
   ]
  },
  {
   "cell_type": "code",
   "execution_count": 7,
   "metadata": {
    "colab": {
     "base_uri": "https://localhost:8080/"
    },
    "id": "KJdPtwJMecl4",
    "outputId": "41cfcb2f-8929-40dd-cd45-fb220e5ef022",
    "tags": []
   },
   "outputs": [
    {
     "data": {
      "text/plain": [
       "0"
      ]
     },
     "execution_count": 7,
     "metadata": {},
     "output_type": "execute_result"
    }
   ],
   "source": [
    "df['Label'].isna().sum() # Count NaN label values.\n"
   ]
  },
  {
   "cell_type": "markdown",
   "metadata": {
    "id": "e-JT7ITZepvj"
   },
   "source": [
    "**the target label**"
   ]
  },
  {
   "cell_type": "code",
   "execution_count": 8,
   "metadata": {
    "colab": {
     "base_uri": "https://localhost:8080/"
    },
    "id": "W_tP4yZVerHl",
    "outputId": "f2947ad9-573f-40f4-98bf-8f727fa7dc11",
    "tags": []
   },
   "outputs": [
    {
     "name": "stdout",
     "output_type": "stream",
     "text": [
      "[1 0]\n"
     ]
    }
   ],
   "source": [
    "# Get unique values existing in the label column.\n",
    "\n",
    "unique_label = pd.unique(df['Label'])\n",
    "\n",
    "print(unique_label)"
   ]
  },
  {
   "cell_type": "code",
   "execution_count": 9,
   "metadata": {
    "colab": {
     "base_uri": "https://localhost:8080/"
    },
    "id": "t3yl8gvte4e2",
    "outputId": "c45b8e4d-a2cb-417b-e677-f2ab1fe19958",
    "tags": []
   },
   "outputs": [
    {
     "data": {
      "text/plain": [
       "Sentence    11291\n",
       "Label       11291\n",
       "dtype: int64"
      ]
     },
     "execution_count": 9,
     "metadata": {},
     "output_type": "execute_result"
    }
   ],
   "source": [
    "df[df['Label'] == 1].count() # Count how much label are 1.\n"
   ]
  },
  {
   "cell_type": "code",
   "execution_count": 10,
   "metadata": {
    "colab": {
     "base_uri": "https://localhost:8080/"
    },
    "id": "a32TE6BUe61N",
    "outputId": "a508cdd8-eeb7-47be-9c99-c9a32bf6ccbf",
    "tags": []
   },
   "outputs": [
    {
     "data": {
      "text/plain": [
       "Sentence    11308\n",
       "Label       11308\n",
       "dtype: int64"
      ]
     },
     "execution_count": 10,
     "metadata": {},
     "output_type": "execute_result"
    }
   ],
   "source": [
    "df[df['Label'] == 0].count() # Count how much label are 0.\n"
   ]
  },
  {
   "cell_type": "markdown",
   "metadata": {
    "id": "BJ8ZTdpfe-8D"
   },
   "source": [
    "**Distribution of the label**"
   ]
  },
  {
   "cell_type": "code",
   "execution_count": 11,
   "metadata": {
    "colab": {
     "base_uri": "https://localhost:8080/",
     "height": 713
    },
    "id": "d0UGNwn6fBLf",
    "outputId": "51cdb9da-ec07-4512-f056-cc1d96f6ceaa",
    "tags": []
   },
   "outputs": [
    {
     "data": {
      "image/png": "[encoded data removed]",
      "text/plain": [
       "<Figure size 1200x800 with 2 Axes>"
      ]
     },
     "metadata": {},
     "output_type": "display_data"
    }
   ],
   "source": [
    "import matplotlib.colors as mcolors\n",
    "f, ax = plt.subplots(1, 2, figsize=(12, 8))\n",
    "colors = list(mcolors.TABLEAU_COLORS.values())\n",
    "df['Label'].value_counts().plot.pie(explode=[0, 0.1], autopct='%1.1f%%', ax=ax[0], wedgeprops={'edgecolor': 'white', 'linewidth': 2, 'antialiased': True}, colors=colors)\n",
    "\n",
    "ax[0].set_title('Label')\n",
    "ax[0].set_ylabel('')\n",
    "sns.countplot(x='Label', data=df, ax=ax[1], palette=colors)\n",
    "ax[1].set_title('Label')\n",
    "plt.show()"
   ]
  },
  {
   "cell_type": "markdown",
   "metadata": {
    "id": "fvvv-V9Whjdi"
   },
   "source": [
    "**Creating the training and test sets**"
   ]
  },
  {
   "cell_type": "code",
   "execution_count": 12,
   "metadata": {
    "colab": {
     "base_uri": "https://localhost:8080/",
     "height": 295
    },
    "id": "lLOiBqjQhpgm",
    "outputId": "6791b4d7-0d17-47c6-eca5-c1a84f3a5da0",
    "tags": []
   },
   "outputs": [
    {
     "name": "stdout",
     "output_type": "stream",
     "text": [
      "downloading pretrained BERT model (uncased_L-12_H-768_A-12.zip)...\n",
      "[██████████████████████████████████████████████████]\n",
      "extracting pretrained BERT model...\n",
      "done.\n",
      "\n",
      "cleanup downloaded zip...\n",
      "done.\n",
      "\n",
      "preprocessing train...\n",
      "language: en\n"
     ]
    },
    {
     "data": {
      "text/html": [
       "\n",
       "<style>\n",
       "    /* Turns off some styling */\n",
       "    progress {\n",
       "        /* gets rid of default border in Firefox and Opera. */\n",
       "        border: none;\n",
       "        /* Needs to be in here for Safari polyfill so background images work as expected. */\n",
       "        background-size: auto;\n",
       "    }\n",
       "    progress:not([value]), progress:not([value])::-webkit-progress-bar {\n",
       "        background: repeating-linear-gradient(45deg, #7e7e7e, #7e7e7e 10px, #5c5c5c 10px, #5c5c5c 20px);\n",
       "    }\n",
       "    .progress-bar-interrupted, .progress-bar-interrupted::-webkit-progress-bar {\n",
       "        background: #F44336;\n",
       "    }\n",
       "</style>\n"
      ],
      "text/plain": [
       "<IPython.core.display.HTML object>"
      ]
     },
     "metadata": {},
     "output_type": "display_data"
    },
    {
     "data": {
      "text/html": [
       "done."
      ],
      "text/plain": [
       "<IPython.core.display.HTML object>"
      ]
     },
     "metadata": {},
     "output_type": "display_data"
    },
    {
     "name": "stdout",
     "output_type": "stream",
     "text": [
      "Is Multi-Label? False\n",
      "preprocessing test...\n",
      "language: en\n"
     ]
    },
    {
     "data": {
      "text/html": [
       "\n",
       "<style>\n",
       "    /* Turns off some styling */\n",
       "    progress {\n",
       "        /* gets rid of default border in Firefox and Opera. */\n",
       "        border: none;\n",
       "        /* Needs to be in here for Safari polyfill so background images work as expected. */\n",
       "        background-size: auto;\n",
       "    }\n",
       "    progress:not([value]), progress:not([value])::-webkit-progress-bar {\n",
       "        background: repeating-linear-gradient(45deg, #7e7e7e, #7e7e7e 10px, #5c5c5c 10px, #5c5c5c 20px);\n",
       "    }\n",
       "    .progress-bar-interrupted, .progress-bar-interrupted::-webkit-progress-bar {\n",
       "        background: #F44336;\n",
       "    }\n",
       "</style>\n"
      ],
      "text/plain": [
       "<IPython.core.display.HTML object>"
      ]
     },
     "metadata": {},
     "output_type": "display_data"
    },
    {
     "data": {
      "text/html": [
       "done."
      ],
      "text/plain": [
       "<IPython.core.display.HTML object>"
      ]
     },
     "metadata": {},
     "output_type": "display_data"
    },
    {
     "name": "stdout",
     "output_type": "stream",
     "text": [
      "task: text classification\n"
     ]
    }
   ],
   "source": [
    "sentences = df['Sentence'].tolist()\n",
    "labels = df['Label'].tolist()\n",
    "(x_train, y_train), (x_test, y_test), preproc = text.texts_from_array(sentences, labels, \n",
    "                                                                       preprocess_mode='bert',\n",
    "                                                                       maxlen=500,\n",
    "                                                                      val_pct=0.2,\n",
    "                                                                      class_names=list(set(labels))\n",
    "                                                                      )"
   ]
  },
  {
   "cell_type": "markdown",
   "metadata": {
    "id": "kmxTcWLlrEYK"
   },
   "source": [
    "# Building the BERT model"
   ]
  },
  {
   "cell_type": "code",
   "execution_count": 13,
   "metadata": {
    "colab": {
     "base_uri": "https://localhost:8080/"
    },
    "id": "FauKTJy3rGty",
    "outputId": "88409c97-5bab-4aa2-f1f7-afa22f22303d",
    "tags": []
   },
   "outputs": [
    {
     "name": "stdout",
     "output_type": "stream",
     "text": [
      "Is Multi-Label? False\n",
      "maxlen is 500\n"
     ]
    },
    {
     "name": "stderr",
     "output_type": "stream",
     "text": [
      "/usr/local/lib/python3.10/dist-packages/keras/initializers/initializers.py:120: UserWarning: The initializer GlorotNormal is unseeded and being called multiple times, which will return identical values each time (even if the initializer is unseeded). Please update your code to provide a seed to the initializer, or avoid using the same initalizer instance more than once.\n",
      "  warnings.warn(\n"
     ]
    },
    {
     "name": "stdout",
     "output_type": "stream",
     "text": [
      "done.\n"
     ]
    }
   ],
   "source": [
    "model = text.text_classifier('bert', (x_train, y_train), preproc=preproc)"
   ]
  },
  {
   "cell_type": "markdown",
   "metadata": {
    "id": "NZ9VMx3itbuE"
   },
   "source": [
    "# Training the BERT model"
   ]
  },
  {
   "cell_type": "code",
   "execution_count": 14,
   "metadata": {
    "id": "8BZ0P_Nmtczq",
    "tags": []
   },
   "outputs": [],
   "source": [
    "learner = ktrain.get_learner(model=model,\n",
    "                             train_data=(x_train, y_train),\n",
    "                             val_data=(x_test, y_test),\n",
    "                             batch_size=6)"
   ]
  },
  {
   "cell_type": "code",
   "execution_count": 15,
   "metadata": {
    "colab": {
     "base_uri": "https://localhost:8080/"
    },
    "id": "ufojLa5JtifC",
    "outputId": "62ecc98e-1ba0-48c1-915f-81eac953bc63",
    "tags": []
   },
   "outputs": [
    {
     "name": "stdout",
     "output_type": "stream",
     "text": [
      "\n",
      "\n",
      "begin training using onecycle policy with max lr of 2e-05...\n",
      "Epoch 1/4\n",
      "3014/3014 [==============================] - 2744s 897ms/step - loss: 0.0221 - accuracy: 0.9944 - val_loss: 0.0031 - val_accuracy: 0.9996\n",
      "Epoch 2/4\n",
      "3014/3014 [==============================] - 2703s 897ms/step - loss: 0.0067 - accuracy: 0.9983 - val_loss: 0.0218 - val_accuracy: 0.9967\n",
      "Epoch 3/4\n",
      "3014/3014 [==============================] - 2702s 897ms/step - loss: 0.0051 - accuracy: 0.9989 - val_loss: 0.0043 - val_accuracy: 0.9989\n",
      "Epoch 4/4\n",
      "3014/3014 [==============================] - 2645s 878ms/step - loss: 5.1445e-04 - accuracy: 0.9999 - val_loss: 4.0619e-04 - val_accuracy: 0.9998\n"
     ]
    },
    {
     "data": {
      "text/plain": [
       "<keras.callbacks.History at 0x7f85241d0040>"
      ]
     },
     "execution_count": 15,
     "metadata": {},
     "output_type": "execute_result"
    }
   ],
   "source": [
    "learner.fit_onecycle(lr=2e-5, epochs=4)"
   ]
  },
  {
   "cell_type": "code",
   "execution_count": 16,
   "metadata": {
    "colab": {
     "base_uri": "https://localhost:8080/"
    },
    "id": "f_Rpmq8CCKdz",
    "outputId": "bbda7806-98ac-430a-ef3c-7ca6a3432878",
    "tags": []
   },
   "outputs": [
    {
     "name": "stdout",
     "output_type": "stream",
     "text": [
      "142/142 [==============================] - 205s 1s/step\n",
      "              precision    recall  f1-score   support\n",
      "\n",
      "           0       1.00      1.00      1.00      2284\n",
      "           1       1.00      1.00      1.00      2236\n",
      "\n",
      "    accuracy                           1.00      4520\n",
      "   macro avg       1.00      1.00      1.00      4520\n",
      "weighted avg       1.00      1.00      1.00      4520\n",
      "\n"
     ]
    },
    {
     "data": {
      "text/plain": [
       "array([[2284,    0],\n",
       "       [   1, 2235]])"
      ]
     },
     "execution_count": 16,
     "metadata": {},
     "output_type": "execute_result"
    }
   ],
   "source": [
    "learner.validate(class_names=preproc.get_classes())\n"
   ]
  },
  {
   "cell_type": "code",
   "execution_count": 17,
   "metadata": {
    "colab": {
     "base_uri": "https://localhost:8080/"
    },
    "id": "Lg9RxAF4rdqE",
    "outputId": "17485cc0-5435-4406-d835-c058f2d1aa77"
   },
   "outputs": [
    {
     "name": "stdout",
     "output_type": "stream",
     "text": [
      "142/142 [==============================] - 200s 1s/step\n",
      "----------\n",
      "id:3570 | loss:1.58 | true:1 | pred:0)\n",
      "\n",
      "[CLS] select [SEP]\n"
     ]
    }
   ],
   "source": [
    "learner.view_top_losses(n=30, preproc=preproc)"
   ]
  },
  {
   "cell_type": "code",
   "execution_count": 18,
   "metadata": {
    "colab": {
     "base_uri": "https://localhost:8080/"
    },
    "id": "tYpccElmCKd1",
    "outputId": "2567353f-6208-4f80-9ae9-3eccb5f33e19",
    "tags": []
   },
   "outputs": [
    {
     "name": "stdout",
     "output_type": "stream",
     "text": [
      "[0, 0, 0, 0, 1, 1, 0, 1, 1, 1, 0, 0, 0, 1, 0, 0, 0, 1]\n"
     ]
    }
   ],
   "source": [
    "predictor = ktrain.get_predictor(learner.model, preproc)\n",
    "\n",
    "# make predictions \n",
    "samples = [\n",
    "    \"SELECT cause,may,yesterday,cookies,fill     (  (  upper JOIN common ON tide.facing =  brain.object )   INNER JOIN blowON Orders.notice =  inch.sangID )\",\n",
    "    \"UPDATE bank SET attached =  'thrown', City =  'cut' WHERE using =  origin\",\n",
    "    \"SELECT * FROM parent WHERE NOT could = 'nation'  AND NOT prevent = 'thank'\",\n",
    "    \"SELECT COUNT ( improve )  FROM control\",\n",
    "    \"-2291   )    )    or 4067  =  5666#\",\n",
    "    \"insert\",\n",
    "    \"select\",\n",
    "    \"update\",\n",
    "    \"delete\",\n",
    "     \"1'; DROP TABLE users;--\",\n",
    "     \"UPDATE customers SET phone_number = '555-555-5555' WHERE name = 'John Doe'\",\n",
    "     \"SELECT COUNT(*) FROM users WHERE username = 'admin' OR 1 = 1\",\n",
    "     \"UPDATE users SET password = 'newpassword' WHERE username = 'admin'\" ,\n",
    "     \"select * from generate_series  (  5980,5980,case when   (  5980  =  5063  )   then 1 else 0 end  )   limit 1--\",\n",
    "     \"SELECT TOP 3 * FROM growth SELECT * FROM catch 3SELECT * FROM mainly\",\n",
    "     \"select * from users where id  =  1 or 1#\",\n",
    "     \"INSERT INTO column ( white, does, certain, curious, first, our )  VALUES  ( 'rose', 'anyone'. close', 'remove', 'force', 'feet', 'fell' )\",\n",
    "     \"SELECT * FROM users WHERE username = '' OR 1=1 --' AND password = 'input_password'\"]\n",
    "prediction = predictor.predict(samples)\n",
    "print(prediction)"
   ]
  },
  {
   "cell_type": "markdown",
   "metadata": {
    "id": "ryKhP9eaMpDJ"
   },
   "source": [
    "# test the Model on a new data set"
   ]
  },
  {
   "cell_type": "code",
   "execution_count": 47,
   "metadata": {
    "id": "OOhlcB9gMQmk",
    "tags": []
   },
   "outputs": [],
   "source": [
    "with open('sqli.csv', 'rb') as f:\n",
    "    result = chardet.detect(f.read())\n",
    "# Read the CSV file into a pandas dataframe, using the detected encoding\n",
    "dataset = pd.read_csv('sqli.csv', sep=',',  encoding=result['encoding'],nrows=1100)\n",
    "\n",
    "\n",
    "# Separate queries and labels\n",
    "queries = dataset['Sentence'].tolist()\n",
    "labels = dataset['Label'].tolist()"
   ]
  },
  {
   "cell_type": "code",
   "execution_count": 56,
   "metadata": {
    "colab": {
     "base_uri": "https://localhost:8080/"
    },
    "id": "vfTqZnXuELzf",
    "outputId": "f0c38c76-2020-44a2-b38b-af3ada8451c0"
   },
   "outputs": [
    {
     "name": "stdout",
     "output_type": "stream",
     "text": [
      "Accuracy: 0.9972727272727273\n"
     ]
    }
   ],
   "source": [
    "correct_predictions = 0\n",
    "total_queries = len(queries)\n",
    "for query, label in zip(queries, labels):\n",
    "    if not isinstance(query, str):\n",
    "        query = str(query)\n",
    "    prediction = predictor.predict(query)\n",
    "    if prediction == label:\n",
    "        correct_predictions += 1\n",
    "\n",
    "\n",
    "accuracy = correct_predictions / total_queries\n",
    "print(f\"Accuracy: {accuracy}\")\n"
   ]
  },
  {
   "cell_type": "code",
   "execution_count": 57,
   "metadata": {
    "colab": {
     "base_uri": "https://localhost:8080/"
    },
    "id": "E7HkWTPr7a2L",
    "outputId": "ac581dd0-2b82-4f61-ada4-ce957497125b"
   },
   "outputs": [
    {
     "name": "stdout",
     "output_type": "stream",
     "text": [
      "1100\n",
      "1097\n"
     ]
    }
   ],
   "source": [
    "print(total_queries)\n",
    "print(correct_predictions)"
   ]
  },
  {
   "cell_type": "markdown",
   "metadata": {
    "id": "aJzsXNN7FMZw"
   },
   "source": [
    "# common sentences between the train data set and the test data set"
   ]
  },
  {
   "cell_type": "code",
   "execution_count": 58,
   "metadata": {
    "colab": {
     "base_uri": "https://localhost:8080/"
    },
    "id": "xzEmwPrB-1Xu",
    "outputId": "13ae7b87-ef6d-4278-d512-c0b636da26e2"
   },
   "outputs": [
    {
     "name": "stdout",
     "output_type": "stream",
     "text": [
      "Similarity Percentage: 9.483667017913593%\n"
     ]
    }
   ],
   "source": [
    "\n",
    "with open('sqli.csv', 'rb') as f:\n",
    "    resultt = chardet.detect(f.read())\n",
    "# Load the first CSV file\n",
    "df1 = pd.read_csv('sqli.csv', sep=',',  encoding=resultt['encoding'],nrows=1100)\n",
    "with open('SQLiV3_3.csv', 'rb') as f:\n",
    "    result = chardet.detect(f.read())\n",
    "# Load the second CSV file\n",
    "df2 = pd.read_csv('SQLiV3_3.csv', sep=',',  encoding=result['encoding'])\n",
    "\n",
    "# Extract the \"sentences\" column from each DataFrame\n",
    "sentences1 = set(df1['Sentence'].tolist())\n",
    "sentences2 = set(df2['Sentence'].tolist())\n",
    "\n",
    "# Find the common sentences\n",
    "common_sentences = sentences1.intersection(sentences2)\n",
    "\n",
    "# Calculate the percentage of common sentences in the first dataset\n",
    "similarity_percentage = (len(common_sentences) / len(sentences1)) * 100\n",
    "\n",
    "# Print the similarity percentage\n",
    "print(f\"Similarity Percentage: {similarity_percentage}%\")\n"
   ]
  },
  {
   "cell_type": "code",
   "execution_count": 59,
   "metadata": {
    "colab": {
     "base_uri": "https://localhost:8080/"
    },
    "id": "P-PgRN37BGOE",
    "outputId": "ebe64ace-cc35-49de-d340-9832e5683089"
   },
   "outputs": [
    {
     "name": "stdout",
     "output_type": "stream",
     "text": [
      "Number of Common Sentences: 90\n"
     ]
    }
   ],
   "source": [
    "# Count the number of common sentences\n",
    "common_sentence_count = len(common_sentences)\n",
    "\n",
    "# Print the count of common sentences\n",
    "print(f\"Number of Common Sentences: {common_sentence_count}\")"
   ]
  },
  {
   "cell_type": "code",
   "execution_count": 60,
   "metadata": {
    "colab": {
     "base_uri": "https://localhost:8080/"
    },
    "id": "7eDVmj8RCYbi",
    "outputId": "bd572d89-bde5-424d-81c3-2c440e225663"
   },
   "outputs": [
    {
     "name": "stdout",
     "output_type": "stream",
     "text": [
      " or 2 > 1\n",
      "1 uni/**/on select all from where\n",
      "# from wapiti\n",
      "/\n",
      ",s\n",
      "%2A%28%7C%28mail%3D%2A%29%29\n",
      "as\n",
      "0x770061006900740066006F0072002000640065006C00 ...\n",
      "\"^\"\n",
      "procedure\n",
      "\\x27UNION SELECT\n",
      "uni/**/on sel/**/ect\n",
      "bfilename\n",
      "a' waitfor delay '0:0:10'--\n",
      "?\n",
      "%2A%7C\n",
      "\" or true--\n",
      " or 1 --'\n",
      "admin'/*\n",
      "having\n",
      "||6\n",
      " ( \n",
      "t'exec master..xp_cmdshell 'nslookup www.google.com'--\n",
      ".s\n",
      "like\n",
      " UNION SELECT\n",
      "x' OR full_name LIKE '%Bob%\n",
      "admin\"/*\n",
      " UNION ALL SELECT\n",
      ",@variable\n",
      "update\n",
      "1\n",
      "admin' --\n",
      " --\n",
      "exec sp_addlogin 'name' , 'password'\n",
      "//*\n",
      "or\n",
      "|\n",
      "distinct\n",
      "replace\n",
      "PRINT @@variable\n",
      " or 'text' > 't'\n",
      "admin' #\n",
      "0x770061006900740066006F0072002000640065006C00610079002000270030003A0030003A\n",
      "PRINT\n",
      "create user name identified by 'pass123'\n",
      "admin\" #\n",
      "s\n",
      "1 waitfor delay '0:0:10'--\n",
      "\"&\"\n",
      " union select\n",
      "sqlvuln\n",
      "delete\n",
      "asc\n",
      "\" or \"\"^\"\n",
      "\"-\"\n",
      "char%4039%41%2b%40SELECT\n",
      "order by\n",
      "@var select @var as var into temp end --\n",
      "\" or \"\"*\"\n",
      "a' --\n",
      "exec sp_addsrvrolemember 'name' , 'sysadmin'\n",
      "0x730065006c0065006300740020004000400076006500 ...\n",
      "or a  =  a\n",
      " or 2 between 1 and 3\n",
      "||UTL_HTTP.REQUEST\n",
      "!\n",
      " or 1/*\n",
      "\" or \"\"&\"\n",
      "\"*\"\n",
      "or true--\n",
      "UEf\n",
      "select\n",
      "insert\n",
      " ) \n",
      "||'6\n",
      "limit\n",
      "\";waitfor delay '0:0:__TIME__'--\n",
      "*|\n",
      "exec sp\n",
      "\" or \"\"-\"\n",
      "desc\n",
      " union all select @@version--\n",
      "t'exec master..xp_cmdshell 'nslookup www.googl ...\n",
      "truncate\n",
      "exec xp\n",
      "x' or full_name like '%bob%\n",
      "\" or \"\" \"\n",
      " select * from information_schema.tables--\n",
      "@variable\n"
     ]
    }
   ],
   "source": [
    "common_sentences = list(common_sentences)\n",
    "for sentence in common_sentences:\n",
    "    print(sentence)\n"
   ]
  }
 ],
 "metadata": {
  "accelerator": "GPU",
  "colab": {
   "gpuClass": "premium",
   "gpuType": "T4",
   "machine_shape": "hm",
   "provenance": []
  },
  "gpuClass": "premium",
  "kernelspec": {
   "display_name": "Python 3 (ipykernel)",
   "language": "python",
   "name": "python3"
  },
  "language_info": {
   "codemirror_mode": {
    "name": "ipython",
    "version": 3
   },
   "file_extension": ".py",
   "mimetype": "text/x-python",
   "name": "python",
   "nbconvert_exporter": "python",
   "pygments_lexer": "ipython3",
   "version": "3.10.0"
  },
  "vscode": {
   "interpreter": {
    "hash": "e61bd8b0a13d4c7feb8d281728ded08f460fac102e59a03a4663eaf8344307c0"
   }
  }
 },
 "nbformat": 4,
 "nbformat_minor": 4
}
