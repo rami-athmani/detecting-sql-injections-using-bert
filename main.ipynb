{
 "cells": [
  {
   "cell_type": "markdown",
   "metadata": {
    "id": "oiutsxb9XGPE"
   },
   "source": [
    "# Detecting SQL injections using BERT "
   ]
  },
  {
   "cell_type": "markdown",
   "metadata": {
    "id": "8O2ke4zOQGSP"
   },
   "source": [
    "**Install nedded libraries**"
   ]
  },
  {
   "cell_type": "code",
   "execution_count": 1,
   "metadata": {
    "colab": {
     "base_uri": "https://localhost:8080/"
    },
    "id": "KBCO29rpQJ9e",
    "outputId": "55b09cbc-caa9-4bab-a254-f4c059c6275b"
   },
   "outputs": [
    {
     "name": "stdout",
     "output_type": "stream",
     "text": [
      "Looking in indexes: https://pypi.org/simple, https://us-python.pkg.dev/colab-wheels/public/simple/\n",
      "Collecting ktrain\n",
      "  Downloading ktrain-0.33.2.tar.gz (25.3 MB)\n",
      "\u001b[2K     \u001b[90m━━━━━━━━━━━━━━━━━━━━━━━━━━━━━━━━━━━━━━━━\u001b[0m \u001b[32m25.3/25.3 MB\u001b[0m \u001b[31m61.4 MB/s\u001b[0m eta \u001b[36m0:00:00\u001b[0m\n",
      "\u001b[?25h  Preparing metadata (setup.py) ... \u001b[?25l\u001b[?25hdone\n",
      "Requirement already satisfied: scikit-learn in /usr/local/lib/python3.9/dist-packages (from ktrain) (1.2.1)\n",
      "Requirement already satisfied: matplotlib>=3.0.0 in /usr/local/lib/python3.9/dist-packages (from ktrain) (3.5.3)\n",
      "Requirement already satisfied: pandas>=1.0.1 in /usr/local/lib/python3.9/dist-packages (from ktrain) (1.3.5)\n",
      "Requirement already satisfied: fastprogress>=0.1.21 in /usr/local/lib/python3.9/dist-packages (from ktrain) (1.0.3)\n",
      "Requirement already satisfied: requests in /usr/local/lib/python3.9/dist-packages (from ktrain) (2.25.1)\n",
      "Requirement already satisfied: joblib in /usr/local/lib/python3.9/dist-packages (from ktrain) (1.2.0)\n",
      "Requirement already satisfied: packaging in /usr/local/lib/python3.9/dist-packages (from ktrain) (23.0)\n",
      "Collecting langdetect\n",
      "  Downloading langdetect-1.0.9.tar.gz (981 kB)\n",
      "\u001b[2K     \u001b[90m━━━━━━━━━━━━━━━━━━━━━━━━━━━━━━━━━━━━━━\u001b[0m \u001b[32m981.5/981.5 KB\u001b[0m \u001b[31m64.5 MB/s\u001b[0m eta \u001b[36m0:00:00\u001b[0m\n",
      "\u001b[?25h  Preparing metadata (setup.py) ... \u001b[?25l\u001b[?25hdone\n",
      "Requirement already satisfied: jieba in /usr/local/lib/python3.9/dist-packages (from ktrain) (0.42.1)\n",
      "Collecting cchardet\n",
      "  Downloading cchardet-2.1.7-cp39-cp39-manylinux2010_x86_64.whl (265 kB)\n",
      "\u001b[2K     \u001b[90m━━━━━━━━━━━━━━━━━━━━━━━━━━━━━━━━━━━━━━\u001b[0m \u001b[32m265.4/265.4 KB\u001b[0m \u001b[31m28.9 MB/s\u001b[0m eta \u001b[36m0:00:00\u001b[0m\n",
      "\u001b[?25hRequirement already satisfied: chardet in /usr/local/lib/python3.9/dist-packages (from ktrain) (4.0.0)\n",
      "Collecting syntok>1.3.3\n",
      "  Downloading syntok-1.4.4-py3-none-any.whl (24 kB)\n",
      "Collecting transformers>=4.17.0\n",
      "  Downloading transformers-4.26.1-py3-none-any.whl (6.3 MB)\n",
      "\u001b[2K     \u001b[90m━━━━━━━━━━━━━━━━━━━━━━━━━━━━━━━━━━━━━━━━\u001b[0m \u001b[32m6.3/6.3 MB\u001b[0m \u001b[31m106.0 MB/s\u001b[0m eta \u001b[36m0:00:00\u001b[0m\n",
      "\u001b[?25hCollecting sentencepiece\n",
      "  Downloading sentencepiece-0.1.97-cp39-cp39-manylinux_2_17_x86_64.manylinux2014_x86_64.whl (1.3 MB)\n",
      "\u001b[2K     \u001b[90m━━━━━━━━━━━━━━━━━━━━━━━━━━━━━━━━━━━━━━━━\u001b[0m \u001b[32m1.3/1.3 MB\u001b[0m \u001b[31m74.6 MB/s\u001b[0m eta \u001b[36m0:00:00\u001b[0m\n",
      "\u001b[?25hCollecting keras_bert>=0.86.0\n",
      "  Downloading keras-bert-0.89.0.tar.gz (25 kB)\n",
      "  Preparing metadata (setup.py) ... \u001b[?25l\u001b[?25hdone\n",
      "Collecting whoosh\n",
      "  Downloading Whoosh-2.7.4-py2.py3-none-any.whl (468 kB)\n",
      "\u001b[2K     \u001b[90m━━━━━━━━━━━━━━━━━━━━━━━━━━━━━━━━━━━━━━\u001b[0m \u001b[32m468.8/468.8 KB\u001b[0m \u001b[31m46.3 MB/s\u001b[0m eta \u001b[36m0:00:00\u001b[0m\n",
      "\u001b[?25hRequirement already satisfied: numpy in /usr/local/lib/python3.9/dist-packages (from keras_bert>=0.86.0->ktrain) (1.22.4)\n",
      "Collecting keras-transformer==0.40.0\n",
      "  Downloading keras-transformer-0.40.0.tar.gz (9.7 kB)\n",
      "  Preparing metadata (setup.py) ... \u001b[?25l\u001b[?25hdone\n",
      "Collecting keras-pos-embd==0.13.0\n",
      "  Downloading keras-pos-embd-0.13.0.tar.gz (5.6 kB)\n",
      "  Preparing metadata (setup.py) ... \u001b[?25l\u001b[?25hdone\n",
      "Collecting keras-multi-head==0.29.0\n",
      "  Downloading keras-multi-head-0.29.0.tar.gz (13 kB)\n",
      "  Preparing metadata (setup.py) ... \u001b[?25l\u001b[?25hdone\n",
      "Collecting keras-layer-normalization==0.16.0\n",
      "  Downloading keras-layer-normalization-0.16.0.tar.gz (3.9 kB)\n",
      "  Preparing metadata (setup.py) ... \u001b[?25l\u001b[?25hdone\n",
      "Collecting keras-position-wise-feed-forward==0.8.0\n",
      "  Downloading keras-position-wise-feed-forward-0.8.0.tar.gz (4.1 kB)\n",
      "  Preparing metadata (setup.py) ... \u001b[?25l\u001b[?25hdone\n",
      "Collecting keras-embed-sim==0.10.0\n",
      "  Downloading keras-embed-sim-0.10.0.tar.gz (3.6 kB)\n",
      "  Preparing metadata (setup.py) ... \u001b[?25l\u001b[?25hdone\n",
      "Collecting keras-self-attention==0.51.0\n",
      "  Downloading keras-self-attention-0.51.0.tar.gz (11 kB)\n",
      "  Preparing metadata (setup.py) ... \u001b[?25l\u001b[?25hdone\n",
      "Requirement already satisfied: cycler>=0.10 in /usr/local/lib/python3.9/dist-packages (from matplotlib>=3.0.0->ktrain) (0.11.0)\n",
      "Requirement already satisfied: kiwisolver>=1.0.1 in /usr/local/lib/python3.9/dist-packages (from matplotlib>=3.0.0->ktrain) (1.4.4)\n",
      "Requirement already satisfied: python-dateutil>=2.7 in /usr/local/lib/python3.9/dist-packages (from matplotlib>=3.0.0->ktrain) (2.8.2)\n",
      "Requirement already satisfied: pyparsing>=2.2.1 in /usr/local/lib/python3.9/dist-packages (from matplotlib>=3.0.0->ktrain) (3.0.9)\n",
      "Requirement already satisfied: fonttools>=4.22.0 in /usr/local/lib/python3.9/dist-packages (from matplotlib>=3.0.0->ktrain) (4.39.0)\n",
      "Requirement already satisfied: pillow>=6.2.0 in /usr/local/lib/python3.9/dist-packages (from matplotlib>=3.0.0->ktrain) (8.4.0)\n",
      "Requirement already satisfied: pytz>=2017.3 in /usr/local/lib/python3.9/dist-packages (from pandas>=1.0.1->ktrain) (2022.7.1)\n",
      "Requirement already satisfied: regex>2016 in /usr/local/lib/python3.9/dist-packages (from syntok>1.3.3->ktrain) (2022.6.2)\n",
      "Requirement already satisfied: filelock in /usr/local/lib/python3.9/dist-packages (from transformers>=4.17.0->ktrain) (3.9.0)\n",
      "Requirement already satisfied: tqdm>=4.27 in /usr/local/lib/python3.9/dist-packages (from transformers>=4.17.0->ktrain) (4.65.0)\n",
      "Collecting huggingface-hub<1.0,>=0.11.0\n",
      "  Downloading huggingface_hub-0.13.1-py3-none-any.whl (199 kB)\n",
      "\u001b[2K     \u001b[90m━━━━━━━━━━━━━━━━━━━━━━━━━━━━━━━━━━━━━━\u001b[0m \u001b[32m199.2/199.2 KB\u001b[0m \u001b[31m24.5 MB/s\u001b[0m eta \u001b[36m0:00:00\u001b[0m\n",
      "\u001b[?25hRequirement already satisfied: pyyaml>=5.1 in /usr/local/lib/python3.9/dist-packages (from transformers>=4.17.0->ktrain) (6.0)\n",
      "Collecting tokenizers!=0.11.3,<0.14,>=0.11.1\n",
      "  Downloading tokenizers-0.13.2-cp39-cp39-manylinux_2_17_x86_64.manylinux2014_x86_64.whl (7.6 MB)\n",
      "\u001b[2K     \u001b[90m━━━━━━━━━━━━━━━━━━━━━━━━━━━━━━━━━━━━━━━━\u001b[0m \u001b[32m7.6/7.6 MB\u001b[0m \u001b[31m108.3 MB/s\u001b[0m eta \u001b[36m0:00:00\u001b[0m\n",
      "\u001b[?25hRequirement already satisfied: six in /usr/local/lib/python3.9/dist-packages (from langdetect->ktrain) (1.15.0)\n",
      "Requirement already satisfied: idna<3,>=2.5 in /usr/local/lib/python3.9/dist-packages (from requests->ktrain) (2.10)\n",
      "Requirement already satisfied: urllib3<1.27,>=1.21.1 in /usr/local/lib/python3.9/dist-packages (from requests->ktrain) (1.26.14)\n",
      "Requirement already satisfied: certifi>=2017.4.17 in /usr/local/lib/python3.9/dist-packages (from requests->ktrain) (2022.12.7)\n",
      "Requirement already satisfied: scipy>=1.3.2 in /usr/local/lib/python3.9/dist-packages (from scikit-learn->ktrain) (1.10.1)\n",
      "Requirement already satisfied: threadpoolctl>=2.0.0 in /usr/local/lib/python3.9/dist-packages (from scikit-learn->ktrain) (3.1.0)\n",
      "Requirement already satisfied: typing-extensions>=3.7.4.3 in /usr/local/lib/python3.9/dist-packages (from huggingface-hub<1.0,>=0.11.0->transformers>=4.17.0->ktrain) (4.5.0)\n",
      "Building wheels for collected packages: ktrain, keras_bert, keras-transformer, keras-embed-sim, keras-layer-normalization, keras-multi-head, keras-pos-embd, keras-position-wise-feed-forward, keras-self-attention, langdetect\n",
      "  Building wheel for ktrain (setup.py) ... \u001b[?25l\u001b[?25hdone\n",
      "  Created wheel for ktrain: filename=ktrain-0.33.2-py3-none-any.whl size=25313840 sha256=3d8c2fef03fc6cfaf5f802911e0f0e2f4cfa612951f5d730b747a1e9e3be7a90\n",
      "  Stored in directory: /root/.cache/pip/wheels/95/20/1f/309ffe6e6ff88187ad19e1bc684dcaf27d67d886c5315a6203\n",
      "  Building wheel for keras_bert (setup.py) ... \u001b[?25l\u001b[?25hdone\n",
      "  Created wheel for keras_bert: filename=keras_bert-0.89.0-py3-none-any.whl size=33516 sha256=eef7a8e01d1bea197e8103a0f247760ac5b0e9c777e372f8f2e2f0c35a52e2de\n",
      "  Stored in directory: /root/.cache/pip/wheels/4e/26/24/14ecbc0166364db7f5500164b7d796263cf3cd10c57e892180\n",
      "  Building wheel for keras-transformer (setup.py) ... \u001b[?25l\u001b[?25hdone\n",
      "  Created wheel for keras-transformer: filename=keras_transformer-0.40.0-py3-none-any.whl size=12304 sha256=2c2775d0ca1e363452166f94ae381206d3bb59fdd9312992d91c8d31445b1f31\n",
      "  Stored in directory: /root/.cache/pip/wheels/5e/d6/d1/c588c3b2b112c8f1173934995836ab2f2de8323cce99fa998f\n",
      "  Building wheel for keras-embed-sim (setup.py) ... \u001b[?25l\u001b[?25hdone\n",
      "  Created wheel for keras-embed-sim: filename=keras_embed_sim-0.10.0-py3-none-any.whl size=3959 sha256=15069f2dcb54d69baece6afdae6076277ef79764704a76f25100534cc8f2ea2d\n",
      "  Stored in directory: /root/.cache/pip/wheels/cb/25/02/4bb438785ef9c10d07f6b3519f080b38917153fdac3108d738\n",
      "  Building wheel for keras-layer-normalization (setup.py) ... \u001b[?25l\u001b[?25hdone\n",
      "  Created wheel for keras-layer-normalization: filename=keras_layer_normalization-0.16.0-py3-none-any.whl size=4668 sha256=8013330f74161d59e9144e4a7944e2c890557ca3c967770a80b5b212b3c48f8a\n",
      "  Stored in directory: /root/.cache/pip/wheels/c1/df/15/a88cdf68ce687574649f65063a743123e1bee79932b6eea3b6\n",
      "  Building wheel for keras-multi-head (setup.py) ... \u001b[?25l\u001b[?25hdone\n",
      "  Created wheel for keras-multi-head: filename=keras_multi_head-0.29.0-py3-none-any.whl size=14993 sha256=54bbb0703cb5f4b9888142a2d7e0637a4a38fd07ab231991195756a295517856\n",
      "  Stored in directory: /root/.cache/pip/wheels/b3/85/50/f232cac81ed1eb4dc20db31a9d1f4a8a1a8c696d4d27bff442\n",
      "  Building wheel for keras-pos-embd (setup.py) ... \u001b[?25l\u001b[?25hdone\n",
      "  Created wheel for keras-pos-embd: filename=keras_pos_embd-0.13.0-py3-none-any.whl size=6961 sha256=3a30dc155a827d424e7ebff505b9861673f253e8ab299a9fcebf79e3ec5a4ba5\n",
      "  Stored in directory: /root/.cache/pip/wheels/f5/8c/9a/917bf72d493e084ca1706a02679185789c2715f50770d8c987\n",
      "  Building wheel for keras-position-wise-feed-forward (setup.py) ... \u001b[?25l\u001b[?25hdone\n",
      "  Created wheel for keras-position-wise-feed-forward: filename=keras_position_wise_feed_forward-0.8.0-py3-none-any.whl size=4983 sha256=4fbbcbaa0080d5c9a2db8f22876035dcb0ef0669ef51756a69607b2a028d4066\n",
      "  Stored in directory: /root/.cache/pip/wheels/20/36/25/efb605ab1742a179274a6f7cb113da1c6758f45e212b59bb4d\n",
      "  Building wheel for keras-self-attention (setup.py) ... \u001b[?25l\u001b[?25hdone\n",
      "  Created wheel for keras-self-attention: filename=keras_self_attention-0.51.0-py3-none-any.whl size=18913 sha256=d504e190c153de6b51c07d40b2138f0d651a04dc1095417a5bcee982ae7ac348\n",
      "  Stored in directory: /root/.cache/pip/wheels/78/c1/84/b83a2fd6f1d63e136cba74bac4126bee3b8705eef6486635fd\n",
      "  Building wheel for langdetect (setup.py) ... \u001b[?25l\u001b[?25hdone\n",
      "  Created wheel for langdetect: filename=langdetect-1.0.9-py3-none-any.whl size=993242 sha256=08ab23c1f848a57c2de9b469a0d69842825802683f5fe9251bf40337b3f8cf0e\n",
      "  Stored in directory: /root/.cache/pip/wheels/d1/c1/d9/7e068de779d863bc8f8fc9467d85e25cfe47fa5051fff1a1bb\n",
      "Successfully built ktrain keras_bert keras-transformer keras-embed-sim keras-layer-normalization keras-multi-head keras-pos-embd keras-position-wise-feed-forward keras-self-attention langdetect\n",
      "Installing collected packages: whoosh, tokenizers, sentencepiece, cchardet, syntok, langdetect, keras-self-attention, keras-position-wise-feed-forward, keras-pos-embd, keras-layer-normalization, keras-embed-sim, keras-multi-head, huggingface-hub, transformers, keras-transformer, keras_bert, ktrain\n",
      "Successfully installed cchardet-2.1.7 huggingface-hub-0.13.1 keras-embed-sim-0.10.0 keras-layer-normalization-0.16.0 keras-multi-head-0.29.0 keras-pos-embd-0.13.0 keras-position-wise-feed-forward-0.8.0 keras-self-attention-0.51.0 keras-transformer-0.40.0 keras_bert-0.89.0 ktrain-0.33.2 langdetect-1.0.9 sentencepiece-0.1.97 syntok-1.4.4 tokenizers-0.13.2 transformers-4.26.1 whoosh-2.7.4\n",
      "Looking in indexes: https://pypi.org/simple, https://us-python.pkg.dev/colab-wheels/public/simple/\n",
      "Requirement already satisfied: chardet in /usr/local/lib/python3.9/dist-packages (4.0.0)\n"
     ]
    }
   ],
   "source": [
    "!pip install ktrain \n",
    "!pip install chardet"
   ]
  },
  {
   "cell_type": "markdown",
   "metadata": {
    "id": "k6fKHXpsXI0O"
   },
   "source": [
    "**Importing the libraries**"
   ]
  },
  {
   "cell_type": "code",
   "execution_count": 2,
   "metadata": {
    "id": "U1ry-3RsbyHc",
    "tags": []
   },
   "outputs": [],
   "source": [
    "import numpy as np\n",
    "import ktrain\n",
    "from ktrain import text\n",
    "import pandas as pd\n",
    "import chardet\n",
    "import matplotlib.pyplot as plt\n",
    "import matplotlib\n",
    "from sklearn.model_selection import train_test_split\n",
    "import seaborn as sns\n",
    "import pickle"
   ]
  },
  {
   "cell_type": "markdown",
   "metadata": {
    "id": "T6uQWRCUd2Kv"
   },
   "source": [
    "**Reading and displaying the dataset**"
   ]
  },
  {
   "cell_type": "code",
   "execution_count": 3,
   "metadata": {
    "colab": {
     "base_uri": "https://localhost:8080/"
    },
    "id": "jvRlnEJ8cnRj",
    "outputId": "0265b300-b1ce-447c-dce8-36ad6073e43f",
    "tags": []
   },
   "outputs": [
    {
     "name": "stdout",
     "output_type": "stream",
     "text": [
      "                                            Sentence  Label\n",
      "0                  \" or pg_sleep  (  __TIME__  )  --      1\n",
      "1   AND 1  =  utl_inaddr.get_host_address   (    ...      1\n",
      "2   select * from users where id  =  '1' or @ @1 ...      1\n",
      "3   select * from users where id  =  1 or 1#\"  ( ...      1\n",
      "4   select name from syscolumns where id   =     ...      1\n",
      "5  select * from users where id  =  1 +$+ or 1  =...      1\n",
      "6  1;  (  load_file  (  char  (  47,101,116,99,47...      1\n",
      "7   select * from users where id  =  '1' or ||/1 ...      1\n",
      "8   select * from users where id  =  '1' or \\.<\\ ...      1\n",
      "9                                    ? or 1  =  1 --      1\n"
     ]
    }
   ],
   "source": [
    "# Detect the encoding of the CSV file\n",
    "with open('SQLiV3.csv', 'rb') as f:\n",
    "    result = chardet.detect(f.read())\n",
    "\n",
    "# Read the CSV file into a pandas dataframe, using the detected encoding\n",
    "# df = pd.read_csv('sqliv2.csv', sep=',',  encoding=result['encoding']).sample(n=250)\n",
    "df = pd.read_csv('SQLiV3.csv', sep=',',  encoding=result['encoding'])\n",
    "\n",
    "# Display the first rows of the dataframe\n",
    "print(df.head(10))"
   ]
  },
  {
   "cell_type": "code",
   "execution_count": 4,
   "metadata": {
    "colab": {
     "base_uri": "https://localhost:8080/"
    },
    "id": "EeAUiQGPdtGa",
    "outputId": "1e41f3f8-ffd7-4a99-d386-be6e2aa39de5",
    "tags": []
   },
   "outputs": [
    {
     "data": {
      "text/plain": [
       "(30608, 2)"
      ]
     },
     "execution_count": 4,
     "metadata": {},
     "output_type": "execute_result"
    }
   ],
   "source": [
    "df.shape"
   ]
  },
  {
   "cell_type": "code",
   "execution_count": 5,
   "metadata": {
    "colab": {
     "base_uri": "https://localhost:8080/"
    },
    "id": "mhMyGO_xeGZU",
    "outputId": "c5624667-ba09-41e3-b33f-b9b05a423ea5",
    "tags": []
   },
   "outputs": [
    {
     "name": "stdout",
     "output_type": "stream",
     "text": [
      "----------------------------------------------------\n",
      "<class 'pandas.core.frame.DataFrame'>\n",
      "RangeIndex: 30608 entries, 0 to 30607\n",
      "Data columns (total 2 columns):\n",
      " #   Column    Non-Null Count  Dtype \n",
      "---  ------    --------------  ----- \n",
      " 0   Sentence  30608 non-null  object\n",
      " 1   Label     30608 non-null  int64 \n",
      "dtypes: int64(1), object(1)\n",
      "memory usage: 478.4+ KB\n",
      "----------------------------------------------------\n"
     ]
    }
   ],
   "source": [
    "print(\"----------------------------------------------------\")\n",
    "df.info()\n",
    "print(\"----------------------------------------------------\")"
   ]
  },
  {
   "cell_type": "code",
   "execution_count": 6,
   "metadata": {
    "colab": {
     "base_uri": "https://localhost:8080/"
    },
    "id": "p_EUGH9qeORB",
    "outputId": "5a36b0ed-434d-41e2-aeec-188586af39b6",
    "tags": []
   },
   "outputs": [
    {
     "data": {
      "text/plain": [
       "count    30608.000000\n",
       "mean         0.370491\n",
       "std          0.482944\n",
       "min          0.000000\n",
       "25%          0.000000\n",
       "50%          0.000000\n",
       "75%          1.000000\n",
       "max          1.000000\n",
       "Name: Label, dtype: float64"
      ]
     },
     "execution_count": 6,
     "metadata": {},
     "output_type": "execute_result"
    }
   ],
   "source": [
    "df['Label'].describe()\n"
   ]
  },
  {
   "cell_type": "markdown",
   "metadata": {
    "id": "ZSV35_OjeaA9"
   },
   "source": [
    "**Process NaN values**"
   ]
  },
  {
   "cell_type": "code",
   "execution_count": 7,
   "metadata": {
    "colab": {
     "base_uri": "https://localhost:8080/"
    },
    "id": "KJdPtwJMecl4",
    "outputId": "f1a7ebb6-7a2b-4eea-ac03-9aec9c4f0b0f",
    "tags": []
   },
   "outputs": [
    {
     "data": {
      "text/plain": [
       "0"
      ]
     },
     "execution_count": 7,
     "metadata": {},
     "output_type": "execute_result"
    }
   ],
   "source": [
    "df['Label'].isna().sum() # Count NaN label values.\n"
   ]
  },
  {
   "cell_type": "markdown",
   "metadata": {
    "id": "e-JT7ITZepvj"
   },
   "source": [
    "**the target label**"
   ]
  },
  {
   "cell_type": "code",
   "execution_count": 8,
   "metadata": {
    "colab": {
     "base_uri": "https://localhost:8080/"
    },
    "id": "W_tP4yZVerHl",
    "outputId": "e525a834-d29a-4e66-a252-6d194b765051",
    "tags": []
   },
   "outputs": [
    {
     "name": "stdout",
     "output_type": "stream",
     "text": [
      "[1 0]\n"
     ]
    }
   ],
   "source": [
    "# Get unique values existing in the label column.\n",
    "\n",
    "unique_label = pd.unique(df['Label'])\n",
    "\n",
    "print(unique_label)"
   ]
  },
  {
   "cell_type": "code",
   "execution_count": 9,
   "metadata": {
    "colab": {
     "base_uri": "https://localhost:8080/"
    },
    "id": "t3yl8gvte4e2",
    "outputId": "59413cb0-f709-44fb-9bb5-8b4b92861579",
    "tags": []
   },
   "outputs": [
    {
     "data": {
      "text/plain": [
       "Sentence    11340\n",
       "Label       11340\n",
       "dtype: int64"
      ]
     },
     "execution_count": 9,
     "metadata": {},
     "output_type": "execute_result"
    }
   ],
   "source": [
    "df[df['Label'] == 1].count() # Count how much label are 1.\n"
   ]
  },
  {
   "cell_type": "code",
   "execution_count": 10,
   "metadata": {
    "colab": {
     "base_uri": "https://localhost:8080/"
    },
    "id": "a32TE6BUe61N",
    "outputId": "e822fd50-2f23-4128-bc3e-99287e02853a",
    "tags": []
   },
   "outputs": [
    {
     "data": {
      "text/plain": [
       "Sentence    19268\n",
       "Label       19268\n",
       "dtype: int64"
      ]
     },
     "execution_count": 10,
     "metadata": {},
     "output_type": "execute_result"
    }
   ],
   "source": [
    "df[df['Label'] == 0].count() # Count how much label are 0.\n"
   ]
  },
  {
   "cell_type": "markdown",
   "metadata": {
    "id": "BJ8ZTdpfe-8D"
   },
   "source": [
    "**Distribution of the label**"
   ]
  },
  {
   "cell_type": "code",
   "execution_count": 11,
   "metadata": {
    "colab": {
     "base_uri": "https://localhost:8080/",
     "height": 513
    },
    "id": "d0UGNwn6fBLf",
    "outputId": "770aaf98-e5eb-4b29-8595-8e2604e1c193",
    "tags": []
   },
   "outputs": [
    {
     "data": {
      "image/png": "[encoded data removed]",
      "text/plain": [
       "<Figure size 864x576 with 2 Axes>"
      ]
     },
     "metadata": {
      "needs_background": "light"
     },
     "output_type": "display_data"
    }
   ],
   "source": [
    "import matplotlib.colors as mcolors\n",
    "f, ax = plt.subplots(1, 2, figsize=(12, 8))\n",
    "colors = list(mcolors.TABLEAU_COLORS.values())\n",
    "df['Label'].value_counts().plot.pie(explode=[0, 0.1], autopct='%1.1f%%', ax=ax[0], wedgeprops={'edgecolor': 'white', 'linewidth': 2, 'antialiased': True}, colors=colors)\n",
    "\n",
    "ax[0].set_title('Label')\n",
    "ax[0].set_ylabel('')\n",
    "sns.countplot('Label', data=df, ax=ax[1], palette=colors)\n",
    "ax[1].set_title('Label')\n",
    "plt.show()\n"
   ]
  },
  {
   "cell_type": "markdown",
   "metadata": {
    "id": "fvvv-V9Whjdi"
   },
   "source": [
    "**Creating the training and test sets**"
   ]
  },
  {
   "cell_type": "code",
   "execution_count": 42,
   "metadata": {
    "colab": {
     "base_uri": "https://localhost:8080/",
     "height": 156
    },
    "id": "lLOiBqjQhpgm",
    "outputId": "e0ec2492-8824-4852-931b-205908717aa6",
    "tags": []
   },
   "outputs": [
    {
     "name": "stdout",
     "output_type": "stream",
     "text": [
      "preprocessing train...\n",
      "language: en\n"
     ]
    },
    {
     "data": {
      "text/html": [
       "\n",
       "<style>\n",
       "    /* Turns off some styling */\n",
       "    progress {\n",
       "        /* gets rid of default border in Firefox and Opera. */\n",
       "        border: none;\n",
       "        /* Needs to be in here for Safari polyfill so background images work as expected. */\n",
       "        background-size: auto;\n",
       "    }\n",
       "    progress:not([value]), progress:not([value])::-webkit-progress-bar {\n",
       "        background: repeating-linear-gradient(45deg, #7e7e7e, #7e7e7e 10px, #5c5c5c 10px, #5c5c5c 20px);\n",
       "    }\n",
       "    .progress-bar-interrupted, .progress-bar-interrupted::-webkit-progress-bar {\n",
       "        background: #F44336;\n",
       "    }\n",
       "</style>\n"
      ],
      "text/plain": [
       "<IPython.core.display.HTML object>"
      ]
     },
     "metadata": {},
     "output_type": "display_data"
    },
    {
     "data": {
      "text/html": [
       "done."
      ],
      "text/plain": [
       "<IPython.core.display.HTML object>"
      ]
     },
     "metadata": {},
     "output_type": "display_data"
    },
    {
     "name": "stdout",
     "output_type": "stream",
     "text": [
      "Is Multi-Label? False\n",
      "preprocessing test...\n",
      "language: en\n"
     ]
    },
    {
     "data": {
      "text/html": [
       "\n",
       "<style>\n",
       "    /* Turns off some styling */\n",
       "    progress {\n",
       "        /* gets rid of default border in Firefox and Opera. */\n",
       "        border: none;\n",
       "        /* Needs to be in here for Safari polyfill so background images work as expected. */\n",
       "        background-size: auto;\n",
       "    }\n",
       "    progress:not([value]), progress:not([value])::-webkit-progress-bar {\n",
       "        background: repeating-linear-gradient(45deg, #7e7e7e, #7e7e7e 10px, #5c5c5c 10px, #5c5c5c 20px);\n",
       "    }\n",
       "    .progress-bar-interrupted, .progress-bar-interrupted::-webkit-progress-bar {\n",
       "        background: #F44336;\n",
       "    }\n",
       "</style>\n"
      ],
      "text/plain": [
       "<IPython.core.display.HTML object>"
      ]
     },
     "metadata": {},
     "output_type": "display_data"
    },
    {
     "data": {
      "text/html": [
       "done."
      ],
      "text/plain": [
       "<IPython.core.display.HTML object>"
      ]
     },
     "metadata": {},
     "output_type": "display_data"
    },
    {
     "name": "stdout",
     "output_type": "stream",
     "text": [
      "task: text classification\n"
     ]
    }
   ],
   "source": [
    "sentences = df['Sentence'].tolist()\n",
    "labels = df['Label'].tolist()\n",
    "\n",
    "sentences_train, sentences_test, labels_train, labels_test = train_test_split(sentences, labels, test_size=0.2, random_state=1500)\n",
    "\n",
    "(x_train, y_train), (x_test, y_test), preproc = text.texts_from_array(sentences_train, labels_train, \n",
    "                                                                       preprocess_mode='bert',\n",
    "                                                                       maxlen=100,\n",
    "                                                                      class_names=list(set(labels_train))\n",
    "                                                                      )"
   ]
  },
  {
   "cell_type": "markdown",
   "metadata": {
    "id": "kmxTcWLlrEYK"
   },
   "source": [
    "# Building the BERT model"
   ]
  },
  {
   "cell_type": "code",
   "execution_count": 43,
   "metadata": {
    "colab": {
     "base_uri": "https://localhost:8080/"
    },
    "id": "FauKTJy3rGty",
    "outputId": "ea79effa-920f-4fcc-87dd-1682d6446907",
    "tags": []
   },
   "outputs": [
    {
     "name": "stdout",
     "output_type": "stream",
     "text": [
      "Is Multi-Label? False\n",
      "maxlen is 100\n"
     ]
    },
    {
     "name": "stderr",
     "output_type": "stream",
     "text": [
      "/usr/local/lib/python3.9/dist-packages/keras/initializers/initializers_v2.py:120: UserWarning: The initializer GlorotNormal is unseeded and being called multiple times, which will return identical values  each time (even if the initializer is unseeded). Please update your code to provide a seed to the initializer, or avoid using the same initalizer instance more than once.\n",
      "  warnings.warn(\n"
     ]
    },
    {
     "name": "stdout",
     "output_type": "stream",
     "text": [
      "done.\n"
     ]
    }
   ],
   "source": [
    "model = text.text_classifier('bert', (x_train, y_train), preproc=preproc)"
   ]
  },
  {
   "cell_type": "markdown",
   "metadata": {
    "id": "NZ9VMx3itbuE"
   },
   "source": [
    "# Training the BERT model"
   ]
  },
  {
   "cell_type": "code",
   "execution_count": 44,
   "metadata": {
    "id": "8BZ0P_Nmtczq",
    "tags": []
   },
   "outputs": [],
   "source": [
    "learner = ktrain.get_learner(model=model,\n",
    "                             train_data=(x_train, y_train),\n",
    "                             val_data=(x_test, y_test),\n",
    "                             batch_size=6)"
   ]
  },
  {
   "cell_type": "code",
   "execution_count": 45,
   "metadata": {
    "colab": {
     "base_uri": "https://localhost:8080/"
    },
    "id": "ufojLa5JtifC",
    "outputId": "ed1886f5-8ffd-462e-a08e-d50d1e70ca6d",
    "tags": []
   },
   "outputs": [
    {
     "name": "stdout",
     "output_type": "stream",
     "text": [
      "\n",
      "\n",
      "begin training using onecycle policy with max lr of 2e-05...\n",
      "Epoch 1/4\n",
      "3673/3673 [==============================] - 177s 43ms/step - loss: 0.0221 - accuracy: 0.9926 - val_loss: 0.0054 - val_accuracy: 0.9971\n",
      "Epoch 2/4\n",
      "3673/3673 [==============================] - 152s 41ms/step - loss: 0.0075 - accuracy: 0.9980 - val_loss: 0.0197 - val_accuracy: 0.9971\n",
      "Epoch 3/4\n",
      "3673/3673 [==============================] - 153s 42ms/step - loss: 0.0061 - accuracy: 0.9985 - val_loss: 0.0113 - val_accuracy: 0.9980\n",
      "Epoch 4/4\n",
      "3673/3673 [==============================] - 152s 42ms/step - loss: 0.0015 - accuracy: 0.9996 - val_loss: 0.0102 - val_accuracy: 0.9984\n"
     ]
    },
    {
     "data": {
      "text/plain": [
       "<keras.callbacks.History at 0x7f4dd9242490>"
      ]
     },
     "execution_count": 45,
     "metadata": {},
     "output_type": "execute_result"
    }
   ],
   "source": [
    "learner.fit_onecycle(lr=2e-5, epochs=4)"
   ]
  },
  {
   "cell_type": "code",
   "execution_count": 46,
   "metadata": {
    "colab": {
     "base_uri": "https://localhost:8080/"
    },
    "id": "f_Rpmq8CCKdz",
    "outputId": "e2c190d8-0ef9-4e8e-9749-d3efdb4c470b",
    "tags": []
   },
   "outputs": [
    {
     "name": "stdout",
     "output_type": "stream",
     "text": [
      "77/77 [==============================] - 6s 26ms/step\n",
      "              precision    recall  f1-score   support\n",
      "\n",
      "           0       1.00      1.00      1.00      1519\n",
      "           1       1.00      1.00      1.00       930\n",
      "\n",
      "    accuracy                           1.00      2449\n",
      "   macro avg       1.00      1.00      1.00      2449\n",
      "weighted avg       1.00      1.00      1.00      2449\n",
      "\n"
     ]
    },
    {
     "data": {
      "text/plain": [
       "array([[1519,    0],\n",
       "       [   4,  926]])"
      ]
     },
     "execution_count": 46,
     "metadata": {},
     "output_type": "execute_result"
    }
   ],
   "source": [
    "learner.validate(class_names=preproc.get_classes())\n"
   ]
  },
  {
   "cell_type": "markdown",
   "metadata": {
    "id": "_VM-1S2ArUBr"
   },
   "source": [
    "**Inspecting Misclassifications**"
   ]
  },
  {
   "cell_type": "code",
   "execution_count": 47,
   "metadata": {
    "colab": {
     "base_uri": "https://localhost:8080/"
    },
    "id": "Lg9RxAF4rdqE",
    "outputId": "0361ffb1-d7b1-4c82-b5ec-c80788ea417f"
   },
   "outputs": [
    {
     "name": "stdout",
     "output_type": "stream",
     "text": [
      "77/77 [==============================] - 2s 26ms/step\n",
      "----------\n",
      "id:1308 | loss:8.78 | true:1 | pred:0)\n",
      "\n",
      "[CLS] # name ? [SEP]\n",
      "----------\n",
      "id:1728 | loss:8.78 | true:1 | pred:0)\n",
      "\n",
      "[CLS] # name ? [SEP]\n",
      "----------\n",
      "id:523 | loss:5.26 | true:1 | pred:0)\n",
      "\n",
      "[CLS] handler [SEP]\n",
      "----------\n",
      "id:1971 | loss:1.68 | true:1 | pred:0)\n",
      "\n",
      "[CLS] sql ##vu ##ln [SEP]\n"
     ]
    }
   ],
   "source": [
    "learner.view_top_losses(n=30, preproc=preproc)"
   ]
  },
  {
   "cell_type": "code",
   "execution_count": 49,
   "metadata": {
    "colab": {
     "base_uri": "https://localhost:8080/"
    },
    "id": "tYpccElmCKd1",
    "outputId": "466f6813-3b89-4c8f-cd0c-526bf58ecce2",
    "tags": []
   },
   "outputs": [
    {
     "name": "stdout",
     "output_type": "stream",
     "text": [
      "1/1 [==============================] - 0s 37ms/step\n",
      "[1, 0, 1, 0]\n"
     ]
    }
   ],
   "source": [
    "predictor = ktrain.get_predictor(learner.model, preproc)\n",
    "\n",
    "# make predictions \n",
    "samples = [\n",
    "     \"1'; DROP TABLE users;--;\",\n",
    "     \"INSERT INTO users (username, password) VALUES ('testuser', 'testpassword'); DROP TABLE users;\",\n",
    "     \"SELECT COUNT(*) FROM users WHERE username = 'admin' OR 1=1;\",\n",
    "     \"UPDATE users SET password = 'newpassword' WHERE username = 'admin';\" ]\n",
    "prediction = predictor.predict(samples)\n",
    "print(prediction)"
   ]
  },
  {
   "cell_type": "markdown",
   "metadata": {
    "id": "W-IiuD6iMzPr"
   },
   "source": []
  },
  {
   "cell_type": "markdown",
   "metadata": {
    "id": "TcCPudKYMaH_"
   },
   "source": [
    "# Save Trained Model"
   ]
  },
  {
   "cell_type": "code",
   "execution_count": 51,
   "metadata": {
    "colab": {
     "base_uri": "https://localhost:8080/"
    },
    "id": "FZUCi-ltK4a_",
    "outputId": "82187b01-c394-4e50-d87a-41b9f7a79860"
   },
   "outputs": [
    {
     "name": "stdout",
     "output_type": "stream",
     "text": [
      "Keras weights file (<HDF5 file \"variables.h5\" (mode r+)>) saving:\n",
      "...layers\n",
      "......add\n",
      ".........vars\n",
      "......add_1\n",
      ".........vars\n",
      "......add_10\n",
      ".........vars\n",
      "......add_11\n",
      ".........vars\n",
      "......add_12\n",
      ".........vars\n",
      "......add_13\n",
      ".........vars\n",
      "......add_14\n",
      ".........vars\n",
      "......add_15\n",
      ".........vars\n",
      "......add_16\n",
      ".........vars\n",
      "......add_17\n",
      ".........vars\n",
      "......add_18\n",
      ".........vars\n",
      "......add_19\n",
      ".........vars\n",
      "......add_2\n",
      ".........vars\n",
      "......add_20\n",
      ".........vars\n",
      "......add_21\n",
      ".........vars\n",
      "......add_22\n",
      ".........vars\n",
      "......add_23\n",
      ".........vars\n",
      "......add_24\n",
      ".........vars\n",
      "......add_3\n",
      ".........vars\n",
      "......add_4\n",
      ".........vars\n",
      "......add_5\n",
      ".........vars\n",
      "......add_6\n",
      ".........vars\n",
      "......add_7\n",
      ".........vars\n",
      "......add_8\n",
      ".........vars\n",
      "......add_9\n",
      ".........vars\n",
      "......dense\n",
      ".........vars\n",
      "............0\n",
      "............1\n",
      "......dense_1\n",
      ".........vars\n",
      "............0\n",
      "............1\n",
      "......dropout\n",
      ".........vars\n",
      "......dropout_1\n",
      ".........vars\n",
      "......dropout_10\n",
      ".........vars\n",
      "......dropout_11\n",
      ".........vars\n",
      "......dropout_12\n",
      ".........vars\n",
      "......dropout_13\n",
      ".........vars\n",
      "......dropout_14\n",
      ".........vars\n",
      "......dropout_15\n",
      ".........vars\n",
      "......dropout_16\n",
      ".........vars\n",
      "......dropout_17\n",
      ".........vars\n",
      "......dropout_18\n",
      ".........vars\n",
      "......dropout_19\n",
      ".........vars\n",
      "......dropout_2\n",
      ".........vars\n",
      "......dropout_20\n",
      ".........vars\n",
      "......dropout_21\n",
      ".........vars\n",
      "......dropout_22\n",
      ".........vars\n",
      "......dropout_23\n",
      ".........vars\n",
      "......dropout_24\n",
      ".........vars\n",
      "......dropout_3\n",
      ".........vars\n",
      "......dropout_4\n",
      ".........vars\n",
      "......dropout_5\n",
      ".........vars\n",
      "......dropout_6\n",
      ".........vars\n",
      "......dropout_7\n",
      ".........vars\n",
      "......dropout_8\n",
      ".........vars\n",
      "......dropout_9\n",
      ".........vars\n",
      "......embedding\n",
      ".........vars\n",
      "............0\n",
      "......extract\n",
      ".........vars\n",
      "......feed_forward\n",
      ".........vars\n",
      "............0\n",
      "............1\n",
      "............2\n",
      "............3\n",
      "......feed_forward_1\n",
      ".........vars\n",
      "............0\n",
      "............1\n",
      "............2\n",
      "............3\n",
      "......feed_forward_10\n",
      ".........vars\n",
      "............0\n",
      "............1\n",
      "............2\n",
      "............3\n",
      "......feed_forward_11\n",
      ".........vars\n",
      "............0\n",
      "............1\n",
      "............2\n",
      "............3\n",
      "......feed_forward_2\n",
      ".........vars\n",
      "............0\n",
      "............1\n",
      "............2\n",
      "............3\n",
      "......feed_forward_3\n",
      ".........vars\n",
      "............0\n",
      "............1\n",
      "............2\n",
      "............3\n",
      "......feed_forward_4\n",
      ".........vars\n",
      "............0\n",
      "............1\n",
      "............2\n",
      "............3\n",
      "......feed_forward_5\n",
      ".........vars\n",
      "............0\n",
      "............1\n",
      "............2\n",
      "............3\n",
      "......feed_forward_6\n",
      ".........vars\n",
      "............0\n",
      "............1\n",
      "............2\n",
      "............3\n",
      "......feed_forward_7\n",
      ".........vars\n",
      "............0\n",
      "............1\n",
      "............2\n",
      "............3\n",
      "......feed_forward_8\n",
      ".........vars\n",
      "............0\n",
      "............1\n",
      "............2\n",
      "............3\n",
      "......feed_forward_9\n",
      ".........vars\n",
      "............0\n",
      "............1\n",
      "............2\n",
      "............3\n",
      "......input_layer\n",
      ".........vars\n",
      "......input_layer_1\n",
      ".........vars\n",
      "......layer_normalization\n",
      ".........vars\n",
      "............0\n",
      "............1\n",
      "......layer_normalization_1\n",
      ".........vars\n",
      "............0\n",
      "............1\n",
      "......layer_normalization_10\n",
      ".........vars\n",
      "............0\n",
      "............1\n",
      "......layer_normalization_11\n",
      ".........vars\n",
      "............0\n",
      "............1\n",
      "......layer_normalization_12\n",
      ".........vars\n",
      "............0\n",
      "............1\n",
      "......layer_normalization_13\n",
      ".........vars\n",
      "............0\n",
      "............1\n",
      "......layer_normalization_14\n",
      ".........vars\n",
      "............0\n",
      "............1\n",
      "......layer_normalization_15\n",
      ".........vars\n",
      "............0\n",
      "............1\n",
      "......layer_normalization_16\n",
      ".........vars\n",
      "............0\n",
      "............1\n",
      "......layer_normalization_17\n",
      ".........vars\n",
      "............0\n",
      "............1\n",
      "......layer_normalization_18\n",
      ".........vars\n",
      "............0\n",
      "............1\n",
      "......layer_normalization_19\n",
      ".........vars\n",
      "............0\n",
      "............1\n",
      "......layer_normalization_2\n",
      ".........vars\n",
      "............0\n",
      "............1\n",
      "......layer_normalization_20\n",
      ".........vars\n",
      "............0\n",
      "............1\n",
      "......layer_normalization_21\n",
      ".........vars\n",
      "............0\n",
      "............1\n",
      "......layer_normalization_22\n",
      ".........vars\n",
      "............0\n",
      "............1\n",
      "......layer_normalization_23\n",
      ".........vars\n",
      "............0\n",
      "............1\n",
      "......layer_normalization_24\n",
      ".........vars\n",
      "............0\n",
      "............1\n",
      "......layer_normalization_3\n",
      ".........vars\n",
      "............0\n",
      "............1\n",
      "......layer_normalization_4\n",
      ".........vars\n",
      "............0\n",
      "............1\n",
      "......layer_normalization_5\n",
      ".........vars\n",
      "............0\n",
      "............1\n",
      "......layer_normalization_6\n",
      ".........vars\n",
      "............0\n",
      "............1\n",
      "......layer_normalization_7\n",
      ".........vars\n",
      "............0\n",
      "............1\n",
      "......layer_normalization_8\n",
      ".........vars\n",
      "............0\n",
      "............1\n",
      "......layer_normalization_9\n",
      ".........vars\n",
      "............0\n",
      "............1\n",
      "......multi_head_attention\n",
      ".........vars\n",
      "............0\n",
      "............1\n",
      "............2\n",
      "............3\n",
      "............4\n",
      "............5\n",
      "............6\n",
      "............7\n",
      "......multi_head_attention_1\n",
      ".........vars\n",
      "............0\n",
      "............1\n",
      "............2\n",
      "............3\n",
      "............4\n",
      "............5\n",
      "............6\n",
      "............7\n",
      "......multi_head_attention_10\n",
      ".........vars\n",
      "............0\n",
      "............1\n",
      "............2\n",
      "............3\n",
      "............4\n",
      "............5\n",
      "............6\n",
      "............7\n",
      "......multi_head_attention_11\n",
      ".........vars\n",
      "............0\n",
      "............1\n",
      "............2\n",
      "............3\n",
      "............4\n",
      "............5\n",
      "............6\n",
      "............7\n",
      "......multi_head_attention_2\n",
      ".........vars\n",
      "............0\n",
      "............1\n",
      "............2\n",
      "............3\n",
      "............4\n",
      "............5\n",
      "............6\n",
      "............7\n",
      "......multi_head_attention_3\n",
      ".........vars\n",
      "............0\n",
      "............1\n",
      "............2\n",
      "............3\n",
      "............4\n",
      "............5\n",
      "............6\n",
      "............7\n",
      "......multi_head_attention_4\n",
      ".........vars\n",
      "............0\n",
      "............1\n",
      "............2\n",
      "............3\n",
      "............4\n",
      "............5\n",
      "............6\n",
      "............7\n",
      "......multi_head_attention_5\n",
      ".........vars\n",
      "............0\n",
      "............1\n",
      "............2\n",
      "............3\n",
      "............4\n",
      "............5\n",
      "............6\n",
      "............7\n",
      "......multi_head_attention_6\n",
      ".........vars\n",
      "............0\n",
      "............1\n",
      "............2\n",
      "............3\n",
      "............4\n",
      "............5\n",
      "............6\n",
      "............7\n",
      "......multi_head_attention_7\n",
      ".........vars\n",
      "............0\n",
      "............1\n",
      "............2\n",
      "............3\n",
      "............4\n",
      "............5\n",
      "............6\n",
      "............7\n",
      "......multi_head_attention_8\n",
      ".........vars\n",
      "............0\n",
      "............1\n",
      "............2\n",
      "............3\n",
      "............4\n",
      "............5\n",
      "............6\n",
      "............7\n",
      "......multi_head_attention_9\n",
      ".........vars\n",
      "............0\n",
      "............1\n",
      "............2\n",
      "............3\n",
      "............4\n",
      "............5\n",
      "............6\n",
      "............7\n",
      "......position_embedding\n",
      ".........vars\n",
      "............0\n",
      "......token_embedding\n",
      ".........vars\n",
      "............0\n",
      "...metrics\n",
      "......mean\n",
      ".........vars\n",
      "............0\n",
      "............1\n",
      "......mean_metric_wrapper\n",
      ".........vars\n",
      "............0\n",
      "............1\n",
      "...vars\n",
      "Keras model archive saving:\n",
      "File Name                                             Modified             Size\n",
      "variables.h5                                   2023-03-10 14:01:13    436948640\n",
      "metadata.json                                  2023-03-10 14:01:12           64\n",
      "config.json                                    2023-03-10 14:01:12        44354\n"
     ]
    }
   ],
   "source": [
    "with open('final_model.pkl', 'wb') as f:\n",
    "    pickle.dump(predictor, f)"
   ]
  },
  {
   "cell_type": "markdown",
   "metadata": {
    "id": "ryKhP9eaMpDJ"
   },
   "source": [
    "# Load Trained Model"
   ]
  },
  {
   "cell_type": "code",
   "execution_count": null,
   "metadata": {
    "id": "OOhlcB9gMQmk"
   },
   "outputs": [],
   "source": [
    "# # Load the saved model from file\n",
    "# with open('model.pkl', 'rb') as f:\n",
    "#     model = pickle.load(f)\n",
    "\n",
    "# # Use the loaded model\n",
    "# model.predict(...)"
   ]
  }
 ],
 "metadata": {
  "accelerator": "GPU",
  "colab": {
   "machine_shape": "hm",
   "provenance": []
  },
  "gpuClass": "premium",
  "kernelspec": {
   "display_name": "Python 3 (ipykernel)",
   "language": "python",
   "name": "python3"
  },
  "language_info": {
   "codemirror_mode": {
    "name": "ipython",
    "version": 3
   },
   "file_extension": ".py",
   "mimetype": "text/x-python",
   "name": "python",
   "nbconvert_exporter": "python",
   "pygments_lexer": "ipython3",
   "version": "3.10.0"
  }
 },
 "nbformat": 4,
 "nbformat_minor": 4
}
