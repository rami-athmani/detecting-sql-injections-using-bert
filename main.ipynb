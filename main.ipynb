{
  "cells": [
    {
      "cell_type": "markdown",
      "metadata": {
        "id": "oiutsxb9XGPE"
      },
      "source": [
        "# Detecting SQL injections using BERT "
      ]
    },
    {
      "cell_type": "markdown",
      "metadata": {
        "id": "8O2ke4zOQGSP"
      },
      "source": [
        "**Install nedded libraries**"
      ]
    },
    {
      "cell_type": "code",
      "execution_count": null,
      "metadata": {
        "colab": {
          "base_uri": "https://localhost:8080/"
        },
        "id": "KBCO29rpQJ9e",
        "outputId": "d57d35a1-318a-4e4a-a636-6f7a1bfe6900"
      },
      "outputs": [],
      "source": [
        "!pip install ktrain \n",
        "!pip install chardet"
      ]
    },
    {
      "cell_type": "markdown",
      "metadata": {
        "id": "k6fKHXpsXI0O"
      },
      "source": [
        "**Importing the libraries**"
      ]
    },
    {
      "cell_type": "code",
      "execution_count": 2,
      "metadata": {
        "id": "U1ry-3RsbyHc",
        "tags": []
      },
      "outputs": [],
      "source": [
        "import numpy as np\n",
        "import ktrain\n",
        "from ktrain import text\n",
        "import pandas as pd\n",
        "import chardet\n",
        "import matplotlib.pyplot as plt\n",
        "import matplotlib\n",
        "from sklearn.model_selection import train_test_split\n",
        "import seaborn as sns\n",
        "import pickle"
      ]
    },
    {
      "cell_type": "markdown",
      "metadata": {
        "id": "T6uQWRCUd2Kv"
      },
      "source": [
        "**Reading and displaying the dataset**"
      ]
    },
    {
      "cell_type": "code",
      "execution_count": 4,
      "metadata": {
        "colab": {
          "base_uri": "https://localhost:8080/"
        },
        "id": "jvRlnEJ8cnRj",
        "outputId": "ae8bc166-bf5b-454c-97e5-ecd856c273b7",
        "tags": []
      },
      "outputs": [
        {
          "name": "stdout",
          "output_type": "stream",
          "text": [
            "                                            Sentence  Label\n",
            "0                  \" or pg_sleep  (  __TIME__  )  --      1\n",
            "1   AND 1  =  utl_inaddr.get_host_address   (    ...      1\n",
            "2   select * from users where id  =  '1' or @ @1 ...      1\n",
            "3   select * from users where id  =  1 or 1#\"  ( ...      1\n",
            "4   select name from syscolumns where id   =     ...      1\n",
            "5  select * from users where id  =  1 +$+ or 1  =...      1\n",
            "6  1;  (  load_file  (  char  (  47,101,116,99,47...      1\n",
            "7   select * from users where id  =  '1' or ||/1 ...      1\n",
            "8   select * from users where id  =  '1' or \\.<\\ ...      1\n",
            "9                                    ? or 1  =  1 --      1\n"
          ]
        }
      ],
      "source": [
        "# Detect the encoding of the CSV file\n",
        "with open('SQLiV3_3.csv', 'rb') as f:\n",
        "    result = chardet.detect(f.read())\n",
        "\n",
        "# Read the CSV file into a pandas dataframe, using the detected encoding\n",
        "# df = pd.read_csv('sqliv2.csv', sep=',',  encoding=result['encoding']).sample(n=250)\n",
        "df = pd.read_csv('SQLiV3_3.csv', sep=',',  encoding=result['encoding'])\n",
        "\n",
        "# Display the first rows of the dataframe\n",
        "print(df.head(10))"
      ]
    },
    {
      "cell_type": "code",
      "execution_count": 5,
      "metadata": {
        "colab": {
          "base_uri": "https://localhost:8080/"
        },
        "id": "EeAUiQGPdtGa",
        "outputId": "8a1d3d6d-8359-441a-a099-9d11d1777e7c",
        "tags": []
      },
      "outputs": [
        {
          "data": {
            "text/plain": [
              "(22599, 2)"
            ]
          },
          "execution_count": 5,
          "metadata": {},
          "output_type": "execute_result"
        }
      ],
      "source": [
        "df.shape"
      ]
    },
    {
      "cell_type": "code",
      "execution_count": 6,
      "metadata": {
        "colab": {
          "base_uri": "https://localhost:8080/"
        },
        "id": "mhMyGO_xeGZU",
        "outputId": "25215ab4-c069-4868-8fa8-a5a3e69aef23",
        "tags": []
      },
      "outputs": [
        {
          "name": "stdout",
          "output_type": "stream",
          "text": [
            "----------------------------------------------------\n",
            "<class 'pandas.core.frame.DataFrame'>\n",
            "RangeIndex: 22599 entries, 0 to 22598\n",
            "Data columns (total 2 columns):\n",
            " #   Column    Non-Null Count  Dtype \n",
            "---  ------    --------------  ----- \n",
            " 0   Sentence  22599 non-null  object\n",
            " 1   Label     22599 non-null  int64 \n",
            "dtypes: int64(1), object(1)\n",
            "memory usage: 353.2+ KB\n",
            "----------------------------------------------------\n"
          ]
        }
      ],
      "source": [
        "print(\"----------------------------------------------------\")\n",
        "df.info()\n",
        "print(\"----------------------------------------------------\")"
      ]
    },
    {
      "cell_type": "code",
      "execution_count": 7,
      "metadata": {
        "colab": {
          "base_uri": "https://localhost:8080/"
        },
        "id": "p_EUGH9qeORB",
        "outputId": "3fa6bc8d-619a-47f0-d639-241692983f34",
        "tags": []
      },
      "outputs": [
        {
          "data": {
            "text/plain": [
              "count    22599.000000\n",
              "mean         0.499624\n",
              "std          0.500011\n",
              "min          0.000000\n",
              "25%          0.000000\n",
              "50%          0.000000\n",
              "75%          1.000000\n",
              "max          1.000000\n",
              "Name: Label, dtype: float64"
            ]
          },
          "execution_count": 7,
          "metadata": {},
          "output_type": "execute_result"
        }
      ],
      "source": [
        "df['Label'].describe()\n"
      ]
    },
    {
      "cell_type": "markdown",
      "metadata": {
        "id": "ZSV35_OjeaA9"
      },
      "source": [
        "**Process NaN values**"
      ]
    },
    {
      "cell_type": "code",
      "execution_count": 8,
      "metadata": {
        "colab": {
          "base_uri": "https://localhost:8080/"
        },
        "id": "KJdPtwJMecl4",
        "outputId": "a4704cbd-ea28-4e44-b14e-bd8e8ddccca8",
        "tags": []
      },
      "outputs": [
        {
          "data": {
            "text/plain": [
              "0"
            ]
          },
          "execution_count": 8,
          "metadata": {},
          "output_type": "execute_result"
        }
      ],
      "source": [
        "df['Label'].isna().sum() # Count NaN label values.\n"
      ]
    },
    {
      "cell_type": "markdown",
      "metadata": {
        "id": "e-JT7ITZepvj"
      },
      "source": [
        "**the target label**"
      ]
    },
    {
      "cell_type": "code",
      "execution_count": 9,
      "metadata": {
        "colab": {
          "base_uri": "https://localhost:8080/"
        },
        "id": "W_tP4yZVerHl",
        "outputId": "66478503-f06a-48db-b2ab-506707b92d27",
        "tags": []
      },
      "outputs": [
        {
          "name": "stdout",
          "output_type": "stream",
          "text": [
            "[1 0]\n"
          ]
        }
      ],
      "source": [
        "# Get unique values existing in the label column.\n",
        "\n",
        "unique_label = pd.unique(df['Label'])\n",
        "\n",
        "print(unique_label)"
      ]
    },
    {
      "cell_type": "code",
      "execution_count": 10,
      "metadata": {
        "colab": {
          "base_uri": "https://localhost:8080/"
        },
        "id": "t3yl8gvte4e2",
        "outputId": "ae038a38-1eb7-4f74-f847-e547637cb6f7",
        "tags": []
      },
      "outputs": [
        {
          "data": {
            "text/plain": [
              "Sentence    11291\n",
              "Label       11291\n",
              "dtype: int64"
            ]
          },
          "execution_count": 10,
          "metadata": {},
          "output_type": "execute_result"
        }
      ],
      "source": [
        "df[df['Label'] == 1].count() # Count how much label are 1.\n"
      ]
    },
    {
      "cell_type": "code",
      "execution_count": 11,
      "metadata": {
        "colab": {
          "base_uri": "https://localhost:8080/"
        },
        "id": "a32TE6BUe61N",
        "outputId": "40b3a2f8-d058-4723-cc92-896e0e3f178d",
        "tags": []
      },
      "outputs": [
        {
          "data": {
            "text/plain": [
              "Sentence    11308\n",
              "Label       11308\n",
              "dtype: int64"
            ]
          },
          "execution_count": 11,
          "metadata": {},
          "output_type": "execute_result"
        }
      ],
      "source": [
        "df[df['Label'] == 0].count() # Count how much label are 0.\n"
      ]
    },
    {
      "cell_type": "markdown",
      "metadata": {
        "id": "BJ8ZTdpfe-8D"
      },
      "source": [
        "**Distribution of the label**"
      ]
    },
    {
      "cell_type": "code",
      "execution_count": 12,
      "metadata": {
        "colab": {
          "base_uri": "https://localhost:8080/",
          "height": 473
        },
        "id": "d0UGNwn6fBLf",
        "outputId": "57369791-c705-4439-e164-90f5caf0e1ec",
        "tags": []
      },
      "outputs": [
        {
          "data": {
            "image/png": "[encoded data removed]",
            "text/plain": [
              "<Figure size 864x576 with 2 Axes>"
            ]
          },
          "metadata": {
            "needs_background": "light"
          },
          "output_type": "display_data"
        }
      ],
      "source": [
        "import matplotlib.colors as mcolors\n",
        "f, ax = plt.subplots(1, 2, figsize=(12, 8))\n",
        "colors = list(mcolors.TABLEAU_COLORS.values())\n",
        "df['Label'].value_counts().plot.pie(explode=[0, 0.1], autopct='%1.1f%%', ax=ax[0], wedgeprops={'edgecolor': 'white', 'linewidth': 2, 'antialiased': True}, colors=colors)\n",
        "\n",
        "ax[0].set_title('Label')\n",
        "ax[0].set_ylabel('')\n",
        "sns.countplot(x='Label', data=df, ax=ax[1], palette=colors)\n",
        "ax[1].set_title('Label')\n",
        "plt.show()"
      ]
    },
    {
      "cell_type": "markdown",
      "metadata": {
        "id": "fvvv-V9Whjdi"
      },
      "source": [
        "**Creating the training and test sets**"
      ]
    },
    {
      "cell_type": "code",
      "execution_count": 13,
      "metadata": {
        "colab": {
          "base_uri": "https://localhost:8080/",
          "height": 295
        },
        "id": "lLOiBqjQhpgm",
        "outputId": "6050c845-6762-4738-ef76-e2493c409ad0",
        "tags": []
      },
      "outputs": [
        {
          "name": "stdout",
          "output_type": "stream",
          "text": [
            "downloading pretrained BERT model (uncased_L-12_H-768_A-12.zip)...\n",
            "[██████████████████████████████████████████████████]\n",
            "extracting pretrained BERT model...\n",
            "done.\n",
            "\n",
            "cleanup downloaded zip...\n",
            "done.\n",
            "\n",
            "preprocessing train...\n",
            "language: en\n"
          ]
        },
        {
          "data": {
            "text/html": [
              "\n",
              "<style>\n",
              "    /* Turns off some styling */\n",
              "    progress {\n",
              "        /* gets rid of default border in Firefox and Opera. */\n",
              "        border: none;\n",
              "        /* Needs to be in here for Safari polyfill so background images work as expected. */\n",
              "        background-size: auto;\n",
              "    }\n",
              "    progress:not([value]), progress:not([value])::-webkit-progress-bar {\n",
              "        background: repeating-linear-gradient(45deg, #7e7e7e, #7e7e7e 10px, #5c5c5c 10px, #5c5c5c 20px);\n",
              "    }\n",
              "    .progress-bar-interrupted, .progress-bar-interrupted::-webkit-progress-bar {\n",
              "        background: #F44336;\n",
              "    }\n",
              "</style>\n"
            ],
            "text/plain": [
              "<IPython.core.display.HTML object>"
            ]
          },
          "metadata": {},
          "output_type": "display_data"
        },
        {
          "data": {
            "text/html": [
              "done."
            ],
            "text/plain": [
              "<IPython.core.display.HTML object>"
            ]
          },
          "metadata": {},
          "output_type": "display_data"
        },
        {
          "name": "stdout",
          "output_type": "stream",
          "text": [
            "Is Multi-Label? False\n",
            "preprocessing test...\n",
            "language: en\n"
          ]
        },
        {
          "data": {
            "text/html": [
              "\n",
              "<style>\n",
              "    /* Turns off some styling */\n",
              "    progress {\n",
              "        /* gets rid of default border in Firefox and Opera. */\n",
              "        border: none;\n",
              "        /* Needs to be in here for Safari polyfill so background images work as expected. */\n",
              "        background-size: auto;\n",
              "    }\n",
              "    progress:not([value]), progress:not([value])::-webkit-progress-bar {\n",
              "        background: repeating-linear-gradient(45deg, #7e7e7e, #7e7e7e 10px, #5c5c5c 10px, #5c5c5c 20px);\n",
              "    }\n",
              "    .progress-bar-interrupted, .progress-bar-interrupted::-webkit-progress-bar {\n",
              "        background: #F44336;\n",
              "    }\n",
              "</style>\n"
            ],
            "text/plain": [
              "<IPython.core.display.HTML object>"
            ]
          },
          "metadata": {},
          "output_type": "display_data"
        },
        {
          "data": {
            "text/html": [
              "done."
            ],
            "text/plain": [
              "<IPython.core.display.HTML object>"
            ]
          },
          "metadata": {},
          "output_type": "display_data"
        },
        {
          "name": "stdout",
          "output_type": "stream",
          "text": [
            "task: text classification\n"
          ]
        }
      ],
      "source": [
        "sentences = df['Sentence'].tolist()\n",
        "labels = df['Label'].tolist()\n",
        "\n",
        "sentences_train, sentences_test, labels_train, labels_test = train_test_split(sentences, labels, test_size=0.2, random_state=1500)\n",
        "\n",
        "(x_train, y_train), (x_test, y_test), preproc = text.texts_from_array(sentences_train, labels_train, \n",
        "                                                                       preprocess_mode='bert',\n",
        "                                                                       maxlen=500,\n",
        "                                                                      class_names=list(set(labels_train))\n",
        "                                                                      )"
      ]
    },
    {
      "cell_type": "markdown",
      "metadata": {
        "id": "kmxTcWLlrEYK"
      },
      "source": [
        "# Building the BERT model"
      ]
    },
    {
      "cell_type": "code",
      "execution_count": 14,
      "metadata": {
        "colab": {
          "base_uri": "https://localhost:8080/"
        },
        "id": "FauKTJy3rGty",
        "outputId": "5ca2ecc1-3caf-4703-81c6-b51b79c004b9",
        "tags": []
      },
      "outputs": [
        {
          "name": "stdout",
          "output_type": "stream",
          "text": [
            "Is Multi-Label? False\n",
            "maxlen is 500\n"
          ]
        },
        {
          "name": "stderr",
          "output_type": "stream",
          "text": [
            "/usr/local/lib/python3.9/dist-packages/keras/initializers/initializers_v2.py:120: UserWarning: The initializer GlorotNormal is unseeded and being called multiple times, which will return identical values  each time (even if the initializer is unseeded). Please update your code to provide a seed to the initializer, or avoid using the same initalizer instance more than once.\n",
            "  warnings.warn(\n"
          ]
        },
        {
          "name": "stdout",
          "output_type": "stream",
          "text": [
            "done.\n"
          ]
        }
      ],
      "source": [
        "model = text.text_classifier('bert', (x_train, y_train), preproc=preproc)"
      ]
    },
    {
      "cell_type": "markdown",
      "metadata": {
        "id": "NZ9VMx3itbuE"
      },
      "source": [
        "# Training the BERT model"
      ]
    },
    {
      "cell_type": "code",
      "execution_count": 15,
      "metadata": {
        "id": "8BZ0P_Nmtczq",
        "tags": []
      },
      "outputs": [],
      "source": [
        "learner = ktrain.get_learner(model=model,\n",
        "                             train_data=(x_train, y_train),\n",
        "                             val_data=(x_test, y_test),\n",
        "                             batch_size=6)"
      ]
    },
    {
      "cell_type": "code",
      "execution_count": 16,
      "metadata": {
        "colab": {
          "base_uri": "https://localhost:8080/"
        },
        "id": "Xprcw2vP4pnB",
        "outputId": "e2c9f10f-14d5-4b28-ab2e-46cec5efad14"
      },
      "outputs": [
        {
          "name": "stdout",
          "output_type": "stream",
          "text": [
            "simulating training for different learning rates... this may take a few moments...\n",
            "Epoch 1/1024\n",
            "2712/2712 [==============================] - 184s 58ms/step - loss: 1.7540 - accuracy: 0.6912\n",
            "\n",
            "\n",
            "done.\n",
            "Please invoke the Learner.lr_plot() method to visually inspect the loss plot to help identify the maximal learning rate associated with falling loss.\n"
          ]
        }
      ],
      "source": [
        "learner.lr_find()"
      ]
    },
    {
      "cell_type": "code",
      "execution_count": 17,
      "metadata": {
        "colab": {
          "base_uri": "https://localhost:8080/",
          "height": 283
        },
        "id": "jxRm-mHm4cEZ",
        "outputId": "0bb0d40f-94cd-4e02-dcc5-c2f0a886c816"
      },
      "outputs": [
        {
          "data": {
            "image/png": "[encoded data removed]",
            "text/plain": [
              "<Figure size 432x288 with 1 Axes>"
            ]
          },
          "metadata": {
            "needs_background": "light"
          },
          "output_type": "display_data"
        }
      ],
      "source": [
        "learner.lr_plot()"
      ]
    },
    {
      "cell_type": "code",
      "execution_count": 18,
      "metadata": {
        "colab": {
          "base_uri": "https://localhost:8080/"
        },
        "id": "ufojLa5JtifC",
        "outputId": "dd0acf5f-4702-49ef-cde0-a28f068967f0",
        "tags": []
      },
      "outputs": [
        {
          "name": "stdout",
          "output_type": "stream",
          "text": [
            "\n",
            "\n",
            "begin training using onecycle policy with max lr of 2e-05...\n",
            "Epoch 1/4\n",
            "2712/2712 [==============================] - 342s 119ms/step - loss: 0.0301 - accuracy: 0.9897 - val_loss: 0.0061 - val_accuracy: 0.9972\n",
            "Epoch 2/4\n",
            "2712/2712 [==============================] - 317s 117ms/step - loss: 0.0065 - accuracy: 0.9985 - val_loss: 0.0021 - val_accuracy: 0.9994\n",
            "Epoch 3/4\n",
            "2712/2712 [==============================] - 317s 117ms/step - loss: 2.8025e-04 - accuracy: 0.9999 - val_loss: 0.0020 - val_accuracy: 0.9994\n",
            "Epoch 4/4\n",
            "2712/2712 [==============================] - 317s 117ms/step - loss: 6.5042e-06 - accuracy: 1.0000 - val_loss: 0.0022 - val_accuracy: 0.9994\n"
          ]
        },
        {
          "data": {
            "text/plain": [
              "<keras.callbacks.History at 0x7f54fded3d30>"
            ]
          },
          "execution_count": 18,
          "metadata": {},
          "output_type": "execute_result"
        }
      ],
      "source": [
        "learner.fit_onecycle(lr=2e-5, epochs=4)"
      ]
    },
    {
      "cell_type": "code",
      "execution_count": 19,
      "metadata": {
        "colab": {
          "base_uri": "https://localhost:8080/"
        },
        "id": "f_Rpmq8CCKdz",
        "outputId": "472cd0a6-b743-4b06-9d07-908695f23f2c",
        "tags": []
      },
      "outputs": [
        {
          "name": "stdout",
          "output_type": "stream",
          "text": [
            "57/57 [==============================] - 13s 151ms/step\n",
            "              precision    recall  f1-score   support\n",
            "\n",
            "           0       1.00      1.00      1.00       928\n",
            "           1       1.00      1.00      1.00       880\n",
            "\n",
            "    accuracy                           1.00      1808\n",
            "   macro avg       1.00      1.00      1.00      1808\n",
            "weighted avg       1.00      1.00      1.00      1808\n",
            "\n"
          ]
        },
        {
          "data": {
            "text/plain": [
              "array([[927,   1],\n",
              "       [  0, 880]])"
            ]
          },
          "execution_count": 19,
          "metadata": {},
          "output_type": "execute_result"
        }
      ],
      "source": [
        "learner.validate(class_names=preproc.get_classes())\n"
      ]
    },
    {
      "cell_type": "markdown",
      "metadata": {
        "id": "_VM-1S2ArUBr"
      },
      "source": [
        "**Inspecting Misclassifications**"
      ]
    },
    {
      "cell_type": "code",
      "execution_count": 20,
      "metadata": {
        "colab": {
          "base_uri": "https://localhost:8080/"
        },
        "id": "Lg9RxAF4rdqE",
        "outputId": "13ad16e1-fc18-4d95-f559-71b9ed7e50d3"
      },
      "outputs": [
        {
          "name": "stdout",
          "output_type": "stream",
          "text": [
            "57/57 [==============================] - 9s 151ms/step\n",
            "----------\n",
            "id:263 | loss:3.97 | true:0 | pred:1)\n",
            "\n",
            "[CLS] create table if not exists ` z ##c ##f _ submit ##log ##s ` ( ` id ` int ( 6 ) unsigned not null auto _ inc ##rem ##ent , ` cr ##ms ##ub ##mit ##log ##sta ##tus ` var ##cha ##r ( 20 ) default null , ` cr ##ms ##ub ##mit ##log ##des ##cr ##ib ##tion ` long ##text not null , ` cr ##ms ##ub ##mit ##form ##type ` var ##cha ##r ( 30 ) not null , primary key ( id ) ) engine = inn ##od ##b default char ##set = ut ##f ##8 [SEP]\n"
          ]
        }
      ],
      "source": [
        "learner.view_top_losses(n=30, preproc=preproc)"
      ]
    },
    {
      "cell_type": "code",
      "execution_count": 42,
      "metadata": {
        "colab": {
          "base_uri": "https://localhost:8080/"
        },
        "id": "tYpccElmCKd1",
        "outputId": "ee762402-8a9f-4ff6-ed4f-a8c6faaa9d71",
        "tags": []
      },
      "outputs": [
        {
          "name": "stdout",
          "output_type": "stream",
          "text": [
            "1/1 [==============================] - 0s 74ms/step\n",
            "[1, 0, 1, 0, 1, 0, 1, 0, 1]\n"
          ]
        }
      ],
      "source": [
        "predictor = ktrain.get_predictor(learner.model, preproc)\n",
        "\n",
        "# make predictions \n",
        "samples = [\n",
        "     \"1'; DROP TABLE users;--;\",\n",
        "     \"INSERT INTO users (username, password) VALUES ('testuser', 'testpassword'); DROP TABLE users;\",\n",
        "     \"SELECT COUNT(*) FROM users WHERE username = 'admin' OR 1 = 1\",\n",
        "     \"UPDATE users SET password = 'newpassword' WHERE username = 'admin';\" ,\n",
        "     \"select * from generate_series  (  5980,5980,case when   (  5980  =  5063  )   then 1 else 0 end  )   limit 1--\",\n",
        "     \"SELECT TOP 3 * FROM growth SELECT * FROM catch 3SELECT * FROM mainly\",\n",
        "     \"SELECT * FROM users WHERE username = '' OR 1:1\",\n",
        "     \"INSERT INTO column ( white, does, certain, curious, first, our )  VALUES  ( 'rose', 'anyone'. close', 'remove', 'force', 'feet', 'fell' )\",\n",
        "     \"SELECT * FROM users WHERE username = '' OR 1=2 --' AND password = 'input_password'\"]\n",
        "prediction = predictor.predict(samples)\n",
        "print(prediction)"
      ]
    },
    {
      "cell_type": "markdown",
      "metadata": {
        "id": "W-IiuD6iMzPr"
      },
      "source": []
    },
    {
      "cell_type": "markdown",
      "metadata": {
        "id": "TcCPudKYMaH_"
      },
      "source": [
        "# Save Trained Model"
      ]
    },
    {
      "cell_type": "code",
      "execution_count": null,
      "metadata": {
        "id": "FZUCi-ltK4a_"
      },
      "outputs": [],
      "source": [
        "with open('final_model.pkl', 'wb') as f:\n",
        "    pickle.dump(predictor, f)"
      ]
    },
    {
      "cell_type": "markdown",
      "metadata": {
        "id": "ryKhP9eaMpDJ"
      },
      "source": [
        "# Load Trained Model"
      ]
    },
    {
      "cell_type": "code",
      "execution_count": null,
      "metadata": {
        "id": "OOhlcB9gMQmk"
      },
      "outputs": [],
      "source": [
        "# # Load the saved model from file\n",
        "# with open('model.pkl', 'rb') as f:\n",
        "#     model = pickle.load(f)\n",
        "\n",
        "# # Use the loaded model\n",
        "# model.predict(...)"
      ]
    }
  ],
  "metadata": {
    "accelerator": "GPU",
    "colab": {
      "machine_shape": "hm",
      "provenance": []
    },
    "gpuClass": "premium",
    "kernelspec": {
      "display_name": "Python 3",
      "language": "python",
      "name": "python3"
    },
    "language_info": {
      "codemirror_mode": {
        "name": "ipython",
        "version": 3
      },
      "file_extension": ".py",
      "mimetype": "text/x-python",
      "name": "python",
      "nbconvert_exporter": "python",
      "pygments_lexer": "ipython3",
      "version": "3.9.13 (tags/v3.9.13:6de2ca5, May 17 2022, 16:36:42) [MSC v.1929 64 bit (AMD64)]"
    },
    "vscode": {
      "interpreter": {
        "hash": "e61bd8b0a13d4c7feb8d281728ded08f460fac102e59a03a4663eaf8344307c0"
      }
    }
  },
  "nbformat": 4,
  "nbformat_minor": 0
}
